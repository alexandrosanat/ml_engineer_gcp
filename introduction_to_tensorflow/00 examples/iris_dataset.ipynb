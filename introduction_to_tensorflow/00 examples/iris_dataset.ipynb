{
 "cells": [
  {
   "cell_type": "code",
   "execution_count": 2,
   "metadata": {},
   "outputs": [
    {
     "name": "stdout",
     "output_type": "stream",
     "text": [
      "TensorFlow version: 2.2.0\n",
      "Eager execution: True\n"
     ]
    }
   ],
   "source": [
    "import os\n",
    "import matplotlib.pyplot as plt\n",
    "import tensorflow as tf\n",
    "import pandas as pd\n",
    "from tensorflow.keras.callbacks import TensorBoard\n",
    "\n",
    "print(\"TensorFlow version: {}\".format(tf.__version__))\n",
    "print(\"Eager execution: {}\".format(tf.executing_eagerly()))"
   ]
  },
  {
   "cell_type": "code",
   "execution_count": 3,
   "metadata": {},
   "outputs": [
    {
     "name": "stdout",
     "output_type": "stream",
     "text": [
      "Local copy of the dataset file: C:\\Users\\LONAA32\\.keras\\datasets\\iris_training.csv\n"
     ]
    }
   ],
   "source": [
    "train_dataset_url = \"https://storage.googleapis.com/download.tensorflow.org/data/iris_training.csv\"\n",
    "\n",
    "train_dataset_fp = tf.keras.utils.get_file(fname=os.path.basename(train_dataset_url),\n",
    "                                           origin=train_dataset_url)\n",
    "\n",
    "print(\"Local copy of the dataset file: {}\".format(train_dataset_fp))"
   ]
  },
  {
   "cell_type": "code",
   "execution_count": 4,
   "metadata": {},
   "outputs": [
    {
     "data": {
      "text/html": [
       "<div>\n",
       "<style scoped>\n",
       "    .dataframe tbody tr th:only-of-type {\n",
       "        vertical-align: middle;\n",
       "    }\n",
       "\n",
       "    .dataframe tbody tr th {\n",
       "        vertical-align: top;\n",
       "    }\n",
       "\n",
       "    .dataframe thead th {\n",
       "        text-align: right;\n",
       "    }\n",
       "</style>\n",
       "<table border=\"1\" class=\"dataframe\">\n",
       "  <thead>\n",
       "    <tr style=\"text-align: right;\">\n",
       "      <th></th>\n",
       "      <th>120</th>\n",
       "      <th>4</th>\n",
       "      <th>setosa</th>\n",
       "      <th>versicolor</th>\n",
       "      <th>virginica</th>\n",
       "    </tr>\n",
       "  </thead>\n",
       "  <tbody>\n",
       "    <tr>\n",
       "      <th>0</th>\n",
       "      <td>6.4</td>\n",
       "      <td>2.8</td>\n",
       "      <td>5.6</td>\n",
       "      <td>2.2</td>\n",
       "      <td>2</td>\n",
       "    </tr>\n",
       "    <tr>\n",
       "      <th>1</th>\n",
       "      <td>5.0</td>\n",
       "      <td>2.3</td>\n",
       "      <td>3.3</td>\n",
       "      <td>1.0</td>\n",
       "      <td>1</td>\n",
       "    </tr>\n",
       "    <tr>\n",
       "      <th>2</th>\n",
       "      <td>4.9</td>\n",
       "      <td>2.5</td>\n",
       "      <td>4.5</td>\n",
       "      <td>1.7</td>\n",
       "      <td>2</td>\n",
       "    </tr>\n",
       "    <tr>\n",
       "      <th>3</th>\n",
       "      <td>4.9</td>\n",
       "      <td>3.1</td>\n",
       "      <td>1.5</td>\n",
       "      <td>0.1</td>\n",
       "      <td>0</td>\n",
       "    </tr>\n",
       "    <tr>\n",
       "      <th>4</th>\n",
       "      <td>5.7</td>\n",
       "      <td>3.8</td>\n",
       "      <td>1.7</td>\n",
       "      <td>0.3</td>\n",
       "      <td>0</td>\n",
       "    </tr>\n",
       "  </tbody>\n",
       "</table>\n",
       "</div>"
      ],
      "text/plain": [
       "   120    4  setosa  versicolor  virginica\n",
       "0  6.4  2.8     5.6         2.2          2\n",
       "1  5.0  2.3     3.3         1.0          1\n",
       "2  4.9  2.5     4.5         1.7          2\n",
       "3  4.9  3.1     1.5         0.1          0\n",
       "4  5.7  3.8     1.7         0.3          0"
      ]
     },
     "execution_count": 4,
     "metadata": {},
     "output_type": "execute_result"
    }
   ],
   "source": [
    "data = pd.read_csv(train_dataset_fp)\n",
    "data.head()"
   ]
  },
  {
   "cell_type": "code",
   "execution_count": 5,
   "metadata": {},
   "outputs": [
    {
     "data": {
      "text/plain": [
       "120"
      ]
     },
     "execution_count": 5,
     "metadata": {},
     "output_type": "execute_result"
    }
   ],
   "source": [
    "len(data)"
   ]
  },
  {
   "cell_type": "code",
   "execution_count": 6,
   "metadata": {},
   "outputs": [],
   "source": [
    "# column order in CSV file\n",
    "COLUMN_NAMES = ['sepal_length', 'sepal_width', 'petal_length', 'petal_width', 'species']"
   ]
  },
  {
   "cell_type": "code",
   "execution_count": 7,
   "metadata": {},
   "outputs": [
    {
     "name": "stdout",
     "output_type": "stream",
     "text": [
      "Features: ['sepal_length', 'sepal_width', 'petal_length', 'petal_width']\n",
      "Label: species\n"
     ]
    }
   ],
   "source": [
    "FEATURE_NAMES = COLUMN_NAMES[:-1]\n",
    "LABEL_NAME = COLUMN_NAMES[-1]\n",
    "\n",
    "print(\"Features: {}\".format(FEATURE_NAMES))\n",
    "print(\"Label: {}\".format(LABEL_NAME))"
   ]
  },
  {
   "cell_type": "code",
   "execution_count": 8,
   "metadata": {},
   "outputs": [
    {
     "data": {
      "text/plain": [
       "'species'"
      ]
     },
     "execution_count": 8,
     "metadata": {},
     "output_type": "execute_result"
    }
   ],
   "source": [
    "LABEL_NAME"
   ]
  },
  {
   "cell_type": "code",
   "execution_count": 9,
   "metadata": {},
   "outputs": [],
   "source": [
    "def create_dataset(file_path, batch_size=1, mode='eval'):\n",
    "\n",
    "    dataset = tf.data.experimental.make_csv_dataset(\n",
    "        file_path,\n",
    "        batch_size,\n",
    "        column_names=COLUMN_NAMES,\n",
    "        label_name=LABEL_NAME)\n",
    "\n",
    "    if mode == 'train':\n",
    "        dataset = dataset.shuffle(buffer_size=100).repeat()\n",
    "\n",
    "    # take advantage of multi-threading; 1=AUTOTUNE\n",
    "    dataset = dataset.prefetch(1)\n",
    "    return dataset"
   ]
  },
  {
   "cell_type": "code",
   "execution_count": 53,
   "metadata": {},
   "outputs": [],
   "source": [
    "BATCH_SIZE = 32\n",
    "\n",
    "trainids = create_dataset(train_dataset_fp, batch_size=BATCH_SIZE, mode='train')"
   ]
  },
  {
   "cell_type": "code",
   "execution_count": 25,
   "metadata": {},
   "outputs": [],
   "source": [
    "features, labels = next(iter(trainids))"
   ]
  },
  {
   "cell_type": "code",
   "execution_count": 26,
   "metadata": {},
   "outputs": [
    {
     "data": {
      "image/png": "[encoded data removed]",
      "text/plain": [
       "<Figure size 432x288 with 1 Axes>"
      ]
     },
     "metadata": {
      "needs_background": "light"
     },
     "output_type": "display_data"
    }
   ],
   "source": [
    "plt.scatter(features['petal_length'],\n",
    "            features['sepal_length'],\n",
    "            c=labels,\n",
    "            cmap='viridis')\n",
    "\n",
    "plt.xlabel(\"Petal length\")\n",
    "plt.ylabel(\"Sepal length\")\n",
    "plt.show()"
   ]
  },
  {
   "cell_type": "code",
   "execution_count": 27,
   "metadata": {},
   "outputs": [],
   "source": [
    "# Create input layer of feature columns\n",
    "feature_columns = {header: tf.feature_column.numeric_column(header) for header in FEATURE_NAMES}"
   ]
  },
  {
   "cell_type": "code",
   "execution_count": 28,
   "metadata": {},
   "outputs": [],
   "source": [
    "model = tf.keras.Sequential([\n",
    "    tf.keras.layers.DenseFeatures(feature_columns=feature_columns.values()),\n",
    "    tf.keras.layers.Dense(10, activation=\"relu\"),\n",
    "    tf.keras.layers.Dense(10, activation=\"relu\"),\n",
    "    tf.keras.layers.Dense(3, activation=\"softmax\")\n",
    "])"
   ]
  },
  {
   "cell_type": "code",
   "execution_count": 29,
   "metadata": {},
   "outputs": [
    {
     "data": {
      "text/plain": [
       "<tf.Tensor: shape=(5, 3), dtype=float32, numpy=\n",
       "array([[0.03064494, 0.2332905 , 0.7360646 ],\n",
       "       [0.12677322, 0.2883351 , 0.5848917 ],\n",
       "       [0.11953376, 0.28181782, 0.5986484 ],\n",
       "       [0.12238251, 0.27817017, 0.59944737],\n",
       "       [0.04213228, 0.25237015, 0.70549756]], dtype=float32)>"
      ]
     },
     "execution_count": 29,
     "metadata": {},
     "output_type": "execute_result"
    }
   ],
   "source": [
    "predictions = model(features)\n",
    "predictions[:5]"
   ]
  },
  {
   "cell_type": "code",
   "execution_count": 30,
   "metadata": {},
   "outputs": [
    {
     "name": "stdout",
     "output_type": "stream",
     "text": [
      "Prediction: [2 2 2 2 2 2 2 2 2 2 2 2 2 2 2 2 2 2 2 2 2 2 2 2 2 2 2 2 2 2 2 2]\n",
      "Labels: [2 0 0 0 1 1 1 2 2 0 2 2 2 0 2 2 2 0 2 1 0 2 0 0 1 0 1 2 1 2 0 1]\n"
     ]
    }
   ],
   "source": [
    "print(\"Prediction: {}\".format(tf.argmax(predictions, axis=1)))\n",
    "print(\"Labels: {}\".format(labels))"
   ]
  },
  {
   "cell_type": "code",
   "execution_count": 39,
   "metadata": {},
   "outputs": [],
   "source": [
    "loss_object = tf.keras.losses.SparseCategoricalCrossentropy(from_logits=True)\n",
    "\n",
    "# Compile the keras model\n",
    "model.compile(optimizer=\"adam\",\n",
    "             loss=loss_object,\n",
    "             metrics=[\"mse\", \"accuracy\"])"
   ]
  },
  {
   "cell_type": "code",
   "execution_count": 50,
   "metadata": {},
   "outputs": [],
   "source": [
    "TRAIN_BATCH_SIZE = 32\n",
    "NUM_TRAIN_EXAMPLES = 120 * 5 # training dataset will repeat, wrap around\n",
    "NUM_EVALS = 100  # how many times to evaluate\n",
    "NUM_EVAL_EXAMPLES = 20  # enough to get a reasonable sample\n",
    "\n",
    "trainds = create_dataset(\n",
    "    file_path=train_dataset_fp,\n",
    "    batch_size=TRAIN_BATCH_SIZE,\n",
    "    mode='train')\n",
    "\n",
    "evalds = create_dataset(\n",
    "    file_path=train_dataset_fp,\n",
    "    batch_size=20,\n",
    "    mode='eval').take(NUM_EVAL_EXAMPLES//20)"
   ]
  },
  {
   "cell_type": "code",
   "execution_count": 48,
   "metadata": {},
   "outputs": [
    {
     "data": {
      "text/plain": [
       "9"
      ]
     },
     "execution_count": 48,
     "metadata": {},
     "output_type": "execute_result"
    }
   ],
   "source": [
    "steps_per_epoch = NUM_TRAIN_EXAMPLES // (TRAIN_BATCH_SIZE * NUM_EVALS)\n",
    "steps_per_epoch"
   ]
  },
  {
   "cell_type": "code",
   "execution_count": 51,
   "metadata": {
    "collapsed": true,
    "jupyter": {
     "outputs_hidden": true
    }
   },
   "outputs": [
    {
     "name": "stdout",
     "output_type": "stream",
     "text": [
      "Wall time: 0 ns\n",
      "Epoch 1/100\n",
      "300/300 [==============================] - 0s 1ms/step - loss: 0.5610 - mse: 1.3660 - accuracy: 0.9912 - val_loss: 0.5520 - val_mse: 1.5494 - val_accuracy: 1.0000\n",
      "Epoch 2/100\n",
      "300/300 [==============================] - 0s 974us/step - loss: 0.5598 - mse: 1.3655 - accuracy: 0.9922 - val_loss: 0.6020 - val_mse: 1.5995 - val_accuracy: 0.9500\n",
      "Epoch 3/100\n",
      "300/300 [==============================] - 0s 936us/step - loss: 0.5604 - mse: 1.3733 - accuracy: 0.9916 - val_loss: 0.5526 - val_mse: 1.2488 - val_accuracy: 1.0000\n",
      "Epoch 4/100\n",
      "300/300 [==============================] - 0s 922us/step - loss: 0.5610 - mse: 1.3599 - accuracy: 0.9909 - val_loss: 0.5519 - val_mse: 1.3662 - val_accuracy: 1.0000\n",
      "Epoch 5/100\n",
      "300/300 [==============================] - 0s 910us/step - loss: 0.5593 - mse: 1.3644 - accuracy: 0.9926 - val_loss: 0.5523 - val_mse: 1.1492 - val_accuracy: 1.0000\n",
      "Epoch 6/100\n",
      "300/300 [==============================] - 0s 909us/step - loss: 0.5607 - mse: 1.3678 - accuracy: 0.9911 - val_loss: 0.5521 - val_mse: 1.5827 - val_accuracy: 1.0000\n",
      "Epoch 7/100\n",
      "300/300 [==============================] - 0s 936us/step - loss: 0.5602 - mse: 1.3632 - accuracy: 0.9916 - val_loss: 0.5520 - val_mse: 1.3828 - val_accuracy: 1.0000\n",
      "Epoch 8/100\n",
      "300/300 [==============================] - 0s 889us/step - loss: 0.5597 - mse: 1.3700 - accuracy: 0.9920 - val_loss: 0.5521 - val_mse: 1.8660 - val_accuracy: 1.0000\n",
      "Epoch 9/100\n",
      "300/300 [==============================] - 0s 920us/step - loss: 0.5601 - mse: 1.3661 - accuracy: 0.9916 - val_loss: 0.5518 - val_mse: 1.7163 - val_accuracy: 1.0000\n",
      "Epoch 10/100\n",
      "300/300 [==============================] - 0s 986us/step - loss: 0.5601 - mse: 1.3571 - accuracy: 0.9917 - val_loss: 0.5520 - val_mse: 1.6827 - val_accuracy: 1.0000\n",
      "Epoch 11/100\n",
      "300/300 [==============================] - 0s 882us/step - loss: 0.5604 - mse: 1.3802 - accuracy: 0.9912 - val_loss: 0.6015 - val_mse: 1.2666 - val_accuracy: 0.9500\n",
      "Epoch 12/100\n",
      "300/300 [==============================] - 0s 887us/step - loss: 0.5591 - mse: 1.3662 - accuracy: 0.9925 - val_loss: 0.5517 - val_mse: 1.2664 - val_accuracy: 1.0000\n",
      "Epoch 13/100\n",
      "300/300 [==============================] - 0s 895us/step - loss: 0.5597 - mse: 1.3754 - accuracy: 0.9919 - val_loss: 0.5515 - val_mse: 1.3333 - val_accuracy: 1.0000\n",
      "Epoch 14/100\n",
      "300/300 [==============================] - 0s 891us/step - loss: 0.5601 - mse: 1.3503 - accuracy: 0.9915 - val_loss: 0.5514 - val_mse: 1.2333 - val_accuracy: 1.0000\n",
      "Epoch 15/100\n",
      "300/300 [==============================] - 0s 890us/step - loss: 0.5599 - mse: 1.3691 - accuracy: 0.9917 - val_loss: 0.5515 - val_mse: 1.1832 - val_accuracy: 1.0000\n",
      "Epoch 16/100\n",
      "300/300 [==============================] - 0s 888us/step - loss: 0.5602 - mse: 1.3714 - accuracy: 0.9914 - val_loss: 0.5514 - val_mse: 1.3667 - val_accuracy: 1.0000\n",
      "Epoch 17/100\n",
      "300/300 [==============================] - 0s 887us/step - loss: 0.5598 - mse: 1.3569 - accuracy: 0.9918 - val_loss: 0.5514 - val_mse: 1.0833 - val_accuracy: 1.0000\n",
      "Epoch 18/100\n",
      "300/300 [==============================] - 0s 916us/step - loss: 0.5598 - mse: 1.3656 - accuracy: 0.9918 - val_loss: 0.6014 - val_mse: 0.9833 - val_accuracy: 0.9500\n",
      "Epoch 19/100\n",
      "300/300 [==============================] - 0s 907us/step - loss: 0.5600 - mse: 1.3690 - accuracy: 0.9916 - val_loss: 0.5514 - val_mse: 1.6000 - val_accuracy: 1.0000\n",
      "Epoch 20/100\n",
      "300/300 [==============================] - 0s 911us/step - loss: 0.5595 - mse: 1.3707 - accuracy: 0.9920 - val_loss: 0.5514 - val_mse: 1.7000 - val_accuracy: 1.0000\n",
      "Epoch 21/100\n",
      "300/300 [==============================] - 0s 989us/step - loss: 0.5604 - mse: 1.3633 - accuracy: 0.9911 - val_loss: 0.5515 - val_mse: 0.9666 - val_accuracy: 1.0000\n",
      "Epoch 22/100\n",
      "300/300 [==============================] - 0s 941us/step - loss: 0.5593 - mse: 1.3711 - accuracy: 0.9922 - val_loss: 0.6015 - val_mse: 1.3499 - val_accuracy: 0.9500\n",
      "Epoch 23/100\n",
      "300/300 [==============================] - 0s 908us/step - loss: 0.5601 - mse: 1.3602 - accuracy: 0.9914 - val_loss: 0.5514 - val_mse: 1.2667 - val_accuracy: 1.0000\n",
      "Epoch 24/100\n",
      "300/300 [==============================] - 0s 956us/step - loss: 0.5594 - mse: 1.3682 - accuracy: 0.9921 - val_loss: 0.5515 - val_mse: 1.1833 - val_accuracy: 1.0000\n",
      "Epoch 25/100\n",
      "300/300 [==============================] - 0s 982us/step - loss: 0.5601 - mse: 1.3801 - accuracy: 0.9914 - val_loss: 0.5514 - val_mse: 1.3333 - val_accuracy: 1.0000\n",
      "Epoch 26/100\n",
      "300/300 [==============================] - 0s 968us/step - loss: 0.5599 - mse: 1.3614 - accuracy: 0.9916 - val_loss: 0.5515 - val_mse: 1.6166 - val_accuracy: 1.0000\n",
      "Epoch 27/100\n",
      "300/300 [==============================] - 0s 883us/step - loss: 0.5602 - mse: 1.3592 - accuracy: 0.9912 - val_loss: 0.5514 - val_mse: 1.0833 - val_accuracy: 1.0000\n",
      "Epoch 28/100\n",
      "300/300 [==============================] - 0s 907us/step - loss: 0.5596 - mse: 1.3640 - accuracy: 0.9919 - val_loss: 0.5515 - val_mse: 1.1333 - val_accuracy: 1.0000\n",
      "Epoch 29/100\n",
      "300/300 [==============================] - 0s 958us/step - loss: 0.5599 - mse: 1.3706 - accuracy: 0.9916 - val_loss: 0.5515 - val_mse: 1.4833 - val_accuracy: 1.0000\n",
      "Epoch 30/100\n",
      "300/300 [==============================] - 0s 905us/step - loss: 0.5596 - mse: 1.3720 - accuracy: 0.9919 - val_loss: 0.5514 - val_mse: 1.7500 - val_accuracy: 1.0000\n",
      "Epoch 31/100\n",
      "300/300 [==============================] - 0s 891us/step - loss: 0.5597 - mse: 1.3599 - accuracy: 0.9918 - val_loss: 0.5515 - val_mse: 1.8500 - val_accuracy: 1.0000\n",
      "Epoch 32/100\n",
      "300/300 [==============================] - 0s 911us/step - loss: 0.5606 - mse: 1.3696 - accuracy: 0.9908 - val_loss: 0.6015 - val_mse: 1.5333 - val_accuracy: 0.9500\n",
      "Epoch 33/100\n",
      "300/300 [==============================] - 0s 931us/step - loss: 0.5595 - mse: 1.3678 - accuracy: 0.9920 - val_loss: 0.6015 - val_mse: 1.3833 - val_accuracy: 0.9500\n",
      "Epoch 34/100\n",
      "300/300 [==============================] - 0s 961us/step - loss: 0.5597 - mse: 1.3647 - accuracy: 0.9918 - val_loss: 0.5514 - val_mse: 1.6167 - val_accuracy: 1.0000\n",
      "Epoch 35/100\n",
      "300/300 [==============================] - 0s 903us/step - loss: 0.5594 - mse: 1.3571 - accuracy: 0.9921 - val_loss: 0.6015 - val_mse: 1.6000 - val_accuracy: 0.9500\n",
      "Epoch 36/100\n",
      "300/300 [==============================] - 0s 894us/step - loss: 0.5599 - mse: 1.3767 - accuracy: 0.9916 - val_loss: 0.5515 - val_mse: 1.4500 - val_accuracy: 1.0000\n",
      "Epoch 37/100\n",
      "300/300 [==============================] - 0s 938us/step - loss: 0.5601 - mse: 1.3726 - accuracy: 0.9914 - val_loss: 0.5515 - val_mse: 1.1166 - val_accuracy: 1.0000\n",
      "Epoch 38/100\n",
      "300/300 [==============================] - 0s 901us/step - loss: 0.5599 - mse: 1.3582 - accuracy: 0.9916 - val_loss: 0.6015 - val_mse: 1.2833 - val_accuracy: 0.9500\n",
      "Epoch 39/100\n",
      "300/300 [==============================] - 0s 907us/step - loss: 0.5594 - mse: 1.3664 - accuracy: 0.9921 - val_loss: 0.5515 - val_mse: 1.5167 - val_accuracy: 1.0000\n",
      "Epoch 40/100\n",
      "300/300 [==============================] - 0s 930us/step - loss: 0.5600 - mse: 1.3740 - accuracy: 0.9915 - val_loss: 0.5515 - val_mse: 1.3333 - val_accuracy: 1.0000\n",
      "Epoch 41/100\n",
      "300/300 [==============================] - 0s 904us/step - loss: 0.5605 - mse: 1.3594 - accuracy: 0.9909 - val_loss: 0.5515 - val_mse: 1.3166 - val_accuracy: 1.0000\n",
      "Epoch 42/100\n",
      "300/300 [==============================] - 0s 906us/step - loss: 0.5594 - mse: 1.3615 - accuracy: 0.9921 - val_loss: 0.6015 - val_mse: 1.4333 - val_accuracy: 0.9500\n",
      "Epoch 43/100\n",
      "300/300 [==============================] - 0s 907us/step - loss: 0.5595 - mse: 1.3779 - accuracy: 0.9920 - val_loss: 0.5515 - val_mse: 1.0166 - val_accuracy: 1.0000\n",
      "Epoch 44/100\n",
      "300/300 [==============================] - 0s 905us/step - loss: 0.5600 - mse: 1.3602 - accuracy: 0.9915 - val_loss: 0.5515 - val_mse: 1.5833 - val_accuracy: 1.0000\n",
      "Epoch 45/100\n",
      "300/300 [==============================] - 0s 918us/step - loss: 0.5596 - mse: 1.3699 - accuracy: 0.9919 - val_loss: 0.5515 - val_mse: 1.3667 - val_accuracy: 1.0000\n",
      "Epoch 46/100\n",
      "300/300 [==============================] - 0s 907us/step - loss: 0.5599 - mse: 1.3677 - accuracy: 0.9916 - val_loss: 0.5514 - val_mse: 1.0000 - val_accuracy: 1.0000\n",
      "Epoch 47/100\n",
      "300/300 [==============================] - 0s 910us/step - loss: 0.5600 - mse: 1.3583 - accuracy: 0.9915 - val_loss: 0.5515 - val_mse: 1.2667 - val_accuracy: 1.0000\n",
      "Epoch 48/100\n",
      "300/300 [==============================] - 0s 898us/step - loss: 0.5594 - mse: 1.3730 - accuracy: 0.9921 - val_loss: 0.5515 - val_mse: 1.1833 - val_accuracy: 1.0000\n",
      "Epoch 49/100\n",
      "300/300 [==============================] - 0s 915us/step - loss: 0.5604 - mse: 1.3620 - accuracy: 0.9910 - val_loss: 0.5515 - val_mse: 1.4167 - val_accuracy: 1.0000\n",
      "Epoch 50/100\n",
      "300/300 [==============================] - 0s 930us/step - loss: 0.5595 - mse: 1.3660 - accuracy: 0.9920 - val_loss: 0.5514 - val_mse: 1.4667 - val_accuracy: 1.0000\n",
      "Epoch 51/100\n",
      "300/300 [==============================] - 0s 1ms/step - loss: 0.5595 - mse: 1.3758 - accuracy: 0.9920 - val_loss: 0.5514 - val_mse: 1.4667 - val_accuracy: 1.0000\n",
      "Epoch 52/100\n",
      "300/300 [==============================] - 0s 1ms/step - loss: 0.5599 - mse: 1.3573 - accuracy: 0.9916 - val_loss: 0.5514 - val_mse: 1.4833 - val_accuracy: 1.0000\n",
      "Epoch 53/100\n",
      "300/300 [==============================] - 0s 923us/step - loss: 0.5607 - mse: 1.3810 - accuracy: 0.9907 - val_loss: 0.6014 - val_mse: 1.2333 - val_accuracy: 0.9500\n",
      "Epoch 54/100\n",
      "300/300 [==============================] - 0s 1ms/step - loss: 0.5591 - mse: 1.3536 - accuracy: 0.9924 - val_loss: 0.5514 - val_mse: 0.9667 - val_accuracy: 1.0000\n",
      "Epoch 55/100\n",
      "300/300 [==============================] - 0s 898us/step - loss: 0.5597 - mse: 1.3762 - accuracy: 0.9918 - val_loss: 0.5515 - val_mse: 1.5167 - val_accuracy: 1.0000\n",
      "Epoch 56/100\n",
      "300/300 [==============================] - 0s 980us/step - loss: 0.5601 - mse: 1.3626 - accuracy: 0.9914 - val_loss: 0.5514 - val_mse: 1.2000 - val_accuracy: 1.0000\n",
      "Epoch 57/100\n",
      "300/300 [==============================] - 0s 1ms/step - loss: 0.5599 - mse: 1.3685 - accuracy: 0.9916 - val_loss: 0.5514 - val_mse: 1.6500 - val_accuracy: 1.0000\n",
      "Epoch 58/100\n",
      "300/300 [==============================] - 0s 963us/step - loss: 0.5601 - mse: 1.3630 - accuracy: 0.9914 - val_loss: 0.5515 - val_mse: 0.9000 - val_accuracy: 1.0000\n",
      "Epoch 59/100\n",
      "300/300 [==============================] - 0s 1ms/step - loss: 0.5595 - mse: 1.3800 - accuracy: 0.9920 - val_loss: 0.5514 - val_mse: 1.2167 - val_accuracy: 1.0000\n",
      "Epoch 60/100\n",
      "300/300 [==============================] - 0s 910us/step - loss: 0.5595 - mse: 1.3548 - accuracy: 0.9920 - val_loss: 0.5514 - val_mse: 1.4500 - val_accuracy: 1.0000\n",
      "Epoch 61/100\n",
      "300/300 [==============================] - 0s 913us/step - loss: 0.5589 - mse: 1.3705 - accuracy: 0.9925 - val_loss: 0.5514 - val_mse: 1.7167 - val_accuracy: 1.0000\n",
      "Epoch 62/100\n",
      "300/300 [==============================] - 0s 925us/step - loss: 0.5603 - mse: 1.3603 - accuracy: 0.9911 - val_loss: 0.5514 - val_mse: 1.2500 - val_accuracy: 1.0000\n",
      "Epoch 63/100\n",
      "300/300 [==============================] - 0s 973us/step - loss: 0.5599 - mse: 1.3712 - accuracy: 0.9916 - val_loss: 0.6014 - val_mse: 1.1000 - val_accuracy: 0.9500\n",
      "Epoch 64/100\n",
      "300/300 [==============================] - 0s 1ms/step - loss: 0.5594 - mse: 1.3633 - accuracy: 0.9921 - val_loss: 0.6014 - val_mse: 1.7667 - val_accuracy: 0.9500\n",
      "Epoch 65/100\n",
      "300/300 [==============================] - 0s 992us/step - loss: 0.5602 - mse: 1.3710 - accuracy: 0.9912 - val_loss: 0.5514 - val_mse: 1.0000 - val_accuracy: 1.0000\n",
      "Epoch 66/100\n",
      "300/300 [==============================] - 0s 979us/step - loss: 0.5600 - mse: 1.3618 - accuracy: 0.9915 - val_loss: 0.5514 - val_mse: 1.2333 - val_accuracy: 1.0000\n",
      "Epoch 67/100\n",
      "300/300 [==============================] - 0s 970us/step - loss: 0.5601 - mse: 1.3660 - accuracy: 0.9914 - val_loss: 0.5514 - val_mse: 1.6000 - val_accuracy: 1.0000\n",
      "Epoch 68/100\n",
      "300/300 [==============================] - 0s 985us/step - loss: 0.5596 - mse: 1.3797 - accuracy: 0.9919 - val_loss: 0.6014 - val_mse: 1.1167 - val_accuracy: 0.9500\n",
      "Epoch 69/100\n",
      "300/300 [==============================] - 0s 958us/step - loss: 0.5598 - mse: 1.3658 - accuracy: 0.9917 - val_loss: 0.5514 - val_mse: 1.4833 - val_accuracy: 1.0000\n",
      "Epoch 70/100\n",
      "300/300 [==============================] - 0s 957us/step - loss: 0.5596 - mse: 1.3642 - accuracy: 0.9919 - val_loss: 0.5514 - val_mse: 1.7500 - val_accuracy: 1.0000\n",
      "Epoch 71/100\n",
      "300/300 [==============================] - 0s 970us/step - loss: 0.5600 - mse: 1.3663 - accuracy: 0.9915 - val_loss: 0.6014 - val_mse: 1.2167 - val_accuracy: 0.9500\n",
      "Epoch 72/100\n",
      "300/300 [==============================] - 0s 1ms/step - loss: 0.5599 - mse: 1.3518 - accuracy: 0.9916 - val_loss: 0.5514 - val_mse: 1.8167 - val_accuracy: 1.0000\n",
      "Epoch 73/100\n",
      "300/300 [==============================] - 0s 961us/step - loss: 0.5588 - mse: 1.3719 - accuracy: 0.9926 - val_loss: 0.5514 - val_mse: 1.3333 - val_accuracy: 1.0000\n",
      "Epoch 74/100\n",
      "300/300 [==============================] - 0s 966us/step - loss: 0.5598 - mse: 1.3717 - accuracy: 0.9917 - val_loss: 0.5514 - val_mse: 1.0833 - val_accuracy: 1.0000\n",
      "Epoch 75/100\n",
      "300/300 [==============================] - 0s 965us/step - loss: 0.5607 - mse: 1.3650 - accuracy: 0.9907 - val_loss: 0.5514 - val_mse: 1.2333 - val_accuracy: 1.0000\n",
      "Epoch 76/100\n",
      "300/300 [==============================] - 0s 1ms/step - loss: 0.5594 - mse: 1.3687 - accuracy: 0.9921 - val_loss: 0.5514 - val_mse: 0.8500 - val_accuracy: 1.0000\n",
      "Epoch 77/100\n",
      "300/300 [==============================] - 0s 1ms/step - loss: 0.5599 - mse: 1.3702 - accuracy: 0.9916 - val_loss: 0.5514 - val_mse: 1.4833 - val_accuracy: 1.0000\n",
      "Epoch 78/100\n",
      "300/300 [==============================] - 0s 1ms/step - loss: 0.5657 - mse: 1.3573 - accuracy: 0.9857 - val_loss: 0.5514 - val_mse: 1.8333 - val_accuracy: 1.0000\n",
      "Epoch 79/100\n",
      "300/300 [==============================] - 0s 922us/step - loss: 0.5685 - mse: 1.3705 - accuracy: 0.9830 - val_loss: 0.5516 - val_mse: 1.8665 - val_accuracy: 1.0000\n",
      "Epoch 80/100\n",
      "300/300 [==============================] - 0s 982us/step - loss: 0.5681 - mse: 1.3609 - accuracy: 0.9833 - val_loss: 0.5514 - val_mse: 1.3667 - val_accuracy: 1.0000\n",
      "Epoch 81/100\n",
      "300/300 [==============================] - 0s 1ms/step - loss: 0.5673 - mse: 1.3690 - accuracy: 0.9842 - val_loss: 0.6014 - val_mse: 1.4833 - val_accuracy: 0.9500\n",
      "Epoch 82/100\n",
      "300/300 [==============================] - 0s 1ms/step - loss: 0.5683 - mse: 1.3700 - accuracy: 0.9831 - val_loss: 0.5515 - val_mse: 1.5333 - val_accuracy: 1.0000\n",
      "Epoch 83/100\n",
      "300/300 [==============================] - 0s 970us/step - loss: 0.5681 - mse: 1.3689 - accuracy: 0.9833 - val_loss: 0.5515 - val_mse: 1.5999 - val_accuracy: 1.0000\n",
      "Epoch 84/100\n",
      "300/300 [==============================] - 0s 974us/step - loss: 0.5687 - mse: 1.3624 - accuracy: 0.9828 - val_loss: 0.5514 - val_mse: 1.4333 - val_accuracy: 1.0000\n",
      "Epoch 85/100\n",
      "300/300 [==============================] - 0s 972us/step - loss: 0.5679 - mse: 1.3628 - accuracy: 0.9835 - val_loss: 0.5514 - val_mse: 1.3500 - val_accuracy: 1.0000\n",
      "Epoch 86/100\n",
      "300/300 [==============================] - 0s 992us/step - loss: 0.5678 - mse: 1.3665 - accuracy: 0.9836 - val_loss: 0.5514 - val_mse: 1.5167 - val_accuracy: 1.0000\n",
      "Epoch 87/100\n",
      "300/300 [==============================] - 0s 978us/step - loss: 0.5710 - mse: 1.3629 - accuracy: 0.9804 - val_loss: 0.5515 - val_mse: 0.8667 - val_accuracy: 1.0000\n",
      "Epoch 88/100\n",
      "300/300 [==============================] - 0s 978us/step - loss: 0.5686 - mse: 1.3775 - accuracy: 0.9825 - val_loss: 0.6014 - val_mse: 1.4833 - val_accuracy: 0.9500\n",
      "Epoch 89/100\n",
      "300/300 [==============================] - 0s 979us/step - loss: 0.5680 - mse: 1.3647 - accuracy: 0.9833 - val_loss: 0.5514 - val_mse: 1.4833 - val_accuracy: 1.0000\n",
      "Epoch 90/100\n",
      "300/300 [==============================] - 0s 953us/step - loss: 0.5676 - mse: 1.3649 - accuracy: 0.9839 - val_loss: 0.6010 - val_mse: 1.6164 - val_accuracy: 0.9500\n",
      "Epoch 91/100\n",
      "300/300 [==============================] - 0s 972us/step - loss: 0.5685 - mse: 1.3687 - accuracy: 0.9831 - val_loss: 0.5514 - val_mse: 1.1000 - val_accuracy: 1.0000\n",
      "Epoch 92/100\n",
      "300/300 [==============================] - 0s 1ms/step - loss: 0.5678 - mse: 1.3637 - accuracy: 0.9837 - val_loss: 0.6512 - val_mse: 1.4332 - val_accuracy: 0.9000\n",
      "Epoch 93/100\n",
      "300/300 [==============================] - 0s 984us/step - loss: 0.5673 - mse: 1.3702 - accuracy: 0.9841 - val_loss: 0.5517 - val_mse: 1.0164 - val_accuracy: 1.0000\n",
      "Epoch 94/100\n",
      "300/300 [==============================] - 0s 1ms/step - loss: 0.5694 - mse: 1.3633 - accuracy: 0.9820 - val_loss: 0.5514 - val_mse: 1.6167 - val_accuracy: 1.0000\n",
      "Epoch 95/100\n",
      "300/300 [==============================] - 0s 968us/step - loss: 0.5668 - mse: 1.3641 - accuracy: 0.9847 - val_loss: 0.5514 - val_mse: 1.2333 - val_accuracy: 1.0000\n",
      "Epoch 96/100\n",
      "300/300 [==============================] - 0s 995us/step - loss: 0.5652 - mse: 1.3632 - accuracy: 0.9867 - val_loss: 0.5514 - val_mse: 1.4167 - val_accuracy: 1.0000\n",
      "Epoch 97/100\n",
      "300/300 [==============================] - 0s 1ms/step - loss: 0.5680 - mse: 1.3704 - accuracy: 0.9833 - val_loss: 0.5514 - val_mse: 1.2500 - val_accuracy: 1.0000\n",
      "Epoch 98/100\n",
      "300/300 [==============================] - 0s 990us/step - loss: 0.5644 - mse: 1.3681 - accuracy: 0.9877 - val_loss: 0.5514 - val_mse: 0.4833 - val_accuracy: 1.0000\n",
      "Epoch 99/100\n",
      "300/300 [==============================] - 0s 989us/step - loss: 0.5674 - mse: 1.3685 - accuracy: 0.9845 - val_loss: 0.5514 - val_mse: 1.7167 - val_accuracy: 1.0000\n",
      "Epoch 100/100\n",
      "300/300 [==============================] - 0s 994us/step - loss: 0.5666 - mse: 1.3599 - accuracy: 0.9849 - val_loss: 0.6014 - val_mse: 1.3666 - val_accuracy: 0.9500\n"
     ]
    }
   ],
   "source": [
    "%time \n",
    "steps_per_epoch = NUM_TRAIN_EXAMPLES // (TRAIN_BATCH_SIZE * NUM_EVALS)\n",
    "\n",
    "history = model.fit(trainds,\n",
    "                    steps_per_epoch=300,\n",
    "                    epochs=NUM_EVALS,\n",
    "                    validation_data=evalds)"
   ]
  },
  {
   "cell_type": "code",
   "execution_count": 52,
   "metadata": {},
   "outputs": [],
   "source": [
    "def pack_features_vector(features, labels):\n",
    "    \"\"\"Pack the features into a single array.\"\"\"\n",
    "    features = tf.stack(list(features.values()), axis=1)\n",
    "    return features, labels"
   ]
  },
  {
   "cell_type": "code",
   "execution_count": 64,
   "metadata": {},
   "outputs": [],
   "source": [
    "BATCH_SIZE = 32\n",
    "\n",
    "trainids = tf.data.experimental.make_csv_dataset(\n",
    "    train_dataset_fp,\n",
    "    batch_size = BATCH_SIZE,\n",
    "    column_names=COLUMN_NAMES,\n",
    "    label_name=LABEL_NAME,\n",
    "    num_epochs=1)\n",
    "\n",
    "# train_dataset = trainids.map(pack_features_vector)"
   ]
  },
  {
   "cell_type": "code",
   "execution_count": 65,
   "metadata": {},
   "outputs": [
    {
     "name": "stdout",
     "output_type": "stream",
     "text": [
      "tf.Tensor(\n",
      "[[6.6 3.  4.4 1.4]\n",
      " [4.4 3.2 1.3 0.2]\n",
      " [5.4 3.9 1.3 0.4]\n",
      " [7.9 3.8 6.4 2. ]\n",
      " [5.5 2.4 3.8 1.1]], shape=(5, 4), dtype=float32)\n"
     ]
    }
   ],
   "source": [
    "features, labels = next(iter(train_dataset))\n",
    "\n",
    "print(features[:5])"
   ]
  },
  {
   "cell_type": "code",
   "execution_count": 67,
   "metadata": {},
   "outputs": [
    {
     "name": "stdout",
     "output_type": "stream",
     "text": [
      "Wall time: 0 ns\n",
      "Epoch 1/20\n",
      "4/4 [==============================] - 0s 10ms/step - loss: 0.5681 - mse: 1.3667 - accuracy: 0.9833\n",
      "Epoch 2/20\n",
      "4/4 [==============================] - 0s 1ms/step - loss: 0.5681 - mse: 1.3667 - accuracy: 0.9833\n",
      "Epoch 3/20\n",
      "4/4 [==============================] - 0s 1ms/step - loss: 0.5681 - mse: 1.3667 - accuracy: 0.9833\n",
      "Epoch 4/20\n",
      "4/4 [==============================] - 0s 904us/step - loss: 0.5681 - mse: 1.3667 - accuracy: 0.9833\n",
      "Epoch 5/20\n",
      "4/4 [==============================] - 0s 1ms/step - loss: 0.5681 - mse: 1.3667 - accuracy: 0.9833\n",
      "Epoch 6/20\n",
      "4/4 [==============================] - 0s 1ms/step - loss: 0.5681 - mse: 1.3667 - accuracy: 0.9833\n",
      "Epoch 7/20\n",
      "4/4 [==============================] - 0s 1ms/step - loss: 0.5681 - mse: 1.3667 - accuracy: 0.9833\n",
      "Epoch 8/20\n",
      "4/4 [==============================] - 0s 1ms/step - loss: 0.5681 - mse: 1.3667 - accuracy: 0.9833\n",
      "Epoch 9/20\n",
      "4/4 [==============================] - 0s 1ms/step - loss: 0.5681 - mse: 1.3667 - accuracy: 0.9833\n",
      "Epoch 10/20\n",
      "4/4 [==============================] - 0s 999us/step - loss: 0.5681 - mse: 1.3667 - accuracy: 0.9833\n",
      "Epoch 11/20\n",
      "4/4 [==============================] - 0s 1ms/step - loss: 0.5681 - mse: 1.3667 - accuracy: 0.9833\n",
      "Epoch 12/20\n",
      "4/4 [==============================] - 0s 1ms/step - loss: 0.5681 - mse: 1.3666 - accuracy: 0.9833\n",
      "Epoch 13/20\n",
      "4/4 [==============================] - 0s 1ms/step - loss: 0.5681 - mse: 1.3666 - accuracy: 0.9833\n",
      "Epoch 14/20\n",
      "4/4 [==============================] - 0s 1ms/step - loss: 0.5681 - mse: 1.3666 - accuracy: 0.9833\n",
      "Epoch 15/20\n",
      "4/4 [==============================] - 0s 1ms/step - loss: 0.5681 - mse: 1.3666 - accuracy: 0.9833\n",
      "Epoch 16/20\n",
      "4/4 [==============================] - 0s 1ms/step - loss: 0.5681 - mse: 1.3666 - accuracy: 0.9833\n",
      "Epoch 17/20\n",
      "4/4 [==============================] - 0s 1ms/step - loss: 0.5681 - mse: 1.3666 - accuracy: 0.9833\n",
      "Epoch 18/20\n",
      "4/4 [==============================] - 0s 1ms/step - loss: 0.5681 - mse: 1.3666 - accuracy: 0.9833\n",
      "Epoch 19/20\n",
      "4/4 [==============================] - 0s 1ms/step - loss: 0.5681 - mse: 1.3666 - accuracy: 0.9833\n",
      "Epoch 20/20\n",
      "4/4 [==============================] - 0s 1ms/step - loss: 0.5681 - mse: 1.3666 - accuracy: 0.9833\n"
     ]
    }
   ],
   "source": [
    "%time \n",
    "\n",
    "history = model.fit(trainids,\n",
    "                    epochs=20)"
   ]
  },
  {
   "cell_type": "code",
   "execution_count": 43,
   "metadata": {},
   "outputs": [
    {
     "name": "stdout",
     "output_type": "stream",
     "text": [
      "Model: \"sequential_2\"\n",
      "_________________________________________________________________\n",
      "Layer (type)                 Output Shape              Param #   \n",
      "=================================================================\n",
      "dense_features_2 (DenseFeatu multiple                  0         \n",
      "_________________________________________________________________\n",
      "dense_6 (Dense)              multiple                  50        \n",
      "_________________________________________________________________\n",
      "dense_7 (Dense)              multiple                  110       \n",
      "_________________________________________________________________\n",
      "dense_8 (Dense)              multiple                  33        \n",
      "=================================================================\n",
      "Total params: 193\n",
      "Trainable params: 193\n",
      "Non-trainable params: 0\n",
      "_________________________________________________________________\n"
     ]
    }
   ],
   "source": [
    "model.summary()"
   ]
  },
  {
   "cell_type": "code",
   "execution_count": 44,
   "metadata": {},
   "outputs": [
    {
     "data": {
      "text/plain": [
       "dict_keys(['loss', 'mse', 'val_loss', 'val_mse'])"
      ]
     },
     "execution_count": 44,
     "metadata": {},
     "output_type": "execute_result"
    }
   ],
   "source": [
    "history.history.keys()"
   ]
  },
  {
   "cell_type": "code",
   "execution_count": 45,
   "metadata": {},
   "outputs": [
    {
     "ename": "KeyError",
     "evalue": "\"None of [Index(['rmse', 'val_rmse'], dtype='object')] are in the [columns]\"",
     "output_type": "error",
     "traceback": [
      "\u001b[1;31m---------------------------------------------------------------------------\u001b[0m",
      "\u001b[1;31mKeyError\u001b[0m                                  Traceback (most recent call last)",
      "\u001b[1;32m<ipython-input-45-c3ac891d30b0>\u001b[0m in \u001b[0;36m<module>\u001b[1;34m\u001b[0m\n\u001b[0;32m      1\u001b[0m \u001b[0mRMSE_COLS\u001b[0m \u001b[1;33m=\u001b[0m \u001b[1;33m[\u001b[0m\u001b[1;34m'rmse'\u001b[0m\u001b[1;33m,\u001b[0m \u001b[1;34m'val_rmse'\u001b[0m\u001b[1;33m]\u001b[0m\u001b[1;33m\u001b[0m\u001b[1;33m\u001b[0m\u001b[0m\n\u001b[0;32m      2\u001b[0m \u001b[1;33m\u001b[0m\u001b[0m\n\u001b[1;32m----> 3\u001b[1;33m \u001b[0mpd\u001b[0m\u001b[1;33m.\u001b[0m\u001b[0mDataFrame\u001b[0m\u001b[1;33m(\u001b[0m\u001b[0mhistory\u001b[0m\u001b[1;33m.\u001b[0m\u001b[0mhistory\u001b[0m\u001b[1;33m)\u001b[0m\u001b[1;33m[\u001b[0m\u001b[0mRMSE_COLS\u001b[0m\u001b[1;33m]\u001b[0m\u001b[1;33m.\u001b[0m\u001b[0mplot\u001b[0m\u001b[1;33m(\u001b[0m\u001b[1;33m)\u001b[0m\u001b[1;33m\u001b[0m\u001b[1;33m\u001b[0m\u001b[0m\n\u001b[0m",
      "\u001b[1;32m~\\Anaconda3\\envs\\tensorflow\\lib\\site-packages\\pandas\\core\\frame.py\u001b[0m in \u001b[0;36m__getitem__\u001b[1;34m(self, key)\u001b[0m\n\u001b[0;32m   2906\u001b[0m             \u001b[1;32mif\u001b[0m \u001b[0mis_iterator\u001b[0m\u001b[1;33m(\u001b[0m\u001b[0mkey\u001b[0m\u001b[1;33m)\u001b[0m\u001b[1;33m:\u001b[0m\u001b[1;33m\u001b[0m\u001b[1;33m\u001b[0m\u001b[0m\n\u001b[0;32m   2907\u001b[0m                 \u001b[0mkey\u001b[0m \u001b[1;33m=\u001b[0m \u001b[0mlist\u001b[0m\u001b[1;33m(\u001b[0m\u001b[0mkey\u001b[0m\u001b[1;33m)\u001b[0m\u001b[1;33m\u001b[0m\u001b[1;33m\u001b[0m\u001b[0m\n\u001b[1;32m-> 2908\u001b[1;33m             \u001b[0mindexer\u001b[0m \u001b[1;33m=\u001b[0m \u001b[0mself\u001b[0m\u001b[1;33m.\u001b[0m\u001b[0mloc\u001b[0m\u001b[1;33m.\u001b[0m\u001b[0m_get_listlike_indexer\u001b[0m\u001b[1;33m(\u001b[0m\u001b[0mkey\u001b[0m\u001b[1;33m,\u001b[0m \u001b[0maxis\u001b[0m\u001b[1;33m=\u001b[0m\u001b[1;36m1\u001b[0m\u001b[1;33m,\u001b[0m \u001b[0mraise_missing\u001b[0m\u001b[1;33m=\u001b[0m\u001b[1;32mTrue\u001b[0m\u001b[1;33m)\u001b[0m\u001b[1;33m[\u001b[0m\u001b[1;36m1\u001b[0m\u001b[1;33m]\u001b[0m\u001b[1;33m\u001b[0m\u001b[1;33m\u001b[0m\u001b[0m\n\u001b[0m\u001b[0;32m   2909\u001b[0m \u001b[1;33m\u001b[0m\u001b[0m\n\u001b[0;32m   2910\u001b[0m         \u001b[1;31m# take() does not accept boolean indexers\u001b[0m\u001b[1;33m\u001b[0m\u001b[1;33m\u001b[0m\u001b[1;33m\u001b[0m\u001b[0m\n",
      "\u001b[1;32m~\\Anaconda3\\envs\\tensorflow\\lib\\site-packages\\pandas\\core\\indexing.py\u001b[0m in \u001b[0;36m_get_listlike_indexer\u001b[1;34m(self, key, axis, raise_missing)\u001b[0m\n\u001b[0;32m   1252\u001b[0m             \u001b[0mkeyarr\u001b[0m\u001b[1;33m,\u001b[0m \u001b[0mindexer\u001b[0m\u001b[1;33m,\u001b[0m \u001b[0mnew_indexer\u001b[0m \u001b[1;33m=\u001b[0m \u001b[0max\u001b[0m\u001b[1;33m.\u001b[0m\u001b[0m_reindex_non_unique\u001b[0m\u001b[1;33m(\u001b[0m\u001b[0mkeyarr\u001b[0m\u001b[1;33m)\u001b[0m\u001b[1;33m\u001b[0m\u001b[1;33m\u001b[0m\u001b[0m\n\u001b[0;32m   1253\u001b[0m \u001b[1;33m\u001b[0m\u001b[0m\n\u001b[1;32m-> 1254\u001b[1;33m         \u001b[0mself\u001b[0m\u001b[1;33m.\u001b[0m\u001b[0m_validate_read_indexer\u001b[0m\u001b[1;33m(\u001b[0m\u001b[0mkeyarr\u001b[0m\u001b[1;33m,\u001b[0m \u001b[0mindexer\u001b[0m\u001b[1;33m,\u001b[0m \u001b[0maxis\u001b[0m\u001b[1;33m,\u001b[0m \u001b[0mraise_missing\u001b[0m\u001b[1;33m=\u001b[0m\u001b[0mraise_missing\u001b[0m\u001b[1;33m)\u001b[0m\u001b[1;33m\u001b[0m\u001b[1;33m\u001b[0m\u001b[0m\n\u001b[0m\u001b[0;32m   1255\u001b[0m         \u001b[1;32mreturn\u001b[0m \u001b[0mkeyarr\u001b[0m\u001b[1;33m,\u001b[0m \u001b[0mindexer\u001b[0m\u001b[1;33m\u001b[0m\u001b[1;33m\u001b[0m\u001b[0m\n\u001b[0;32m   1256\u001b[0m \u001b[1;33m\u001b[0m\u001b[0m\n",
      "\u001b[1;32m~\\Anaconda3\\envs\\tensorflow\\lib\\site-packages\\pandas\\core\\indexing.py\u001b[0m in \u001b[0;36m_validate_read_indexer\u001b[1;34m(self, key, indexer, axis, raise_missing)\u001b[0m\n\u001b[0;32m   1296\u001b[0m             \u001b[1;32mif\u001b[0m \u001b[0mmissing\u001b[0m \u001b[1;33m==\u001b[0m \u001b[0mlen\u001b[0m\u001b[1;33m(\u001b[0m\u001b[0mindexer\u001b[0m\u001b[1;33m)\u001b[0m\u001b[1;33m:\u001b[0m\u001b[1;33m\u001b[0m\u001b[1;33m\u001b[0m\u001b[0m\n\u001b[0;32m   1297\u001b[0m                 \u001b[0maxis_name\u001b[0m \u001b[1;33m=\u001b[0m \u001b[0mself\u001b[0m\u001b[1;33m.\u001b[0m\u001b[0mobj\u001b[0m\u001b[1;33m.\u001b[0m\u001b[0m_get_axis_name\u001b[0m\u001b[1;33m(\u001b[0m\u001b[0maxis\u001b[0m\u001b[1;33m)\u001b[0m\u001b[1;33m\u001b[0m\u001b[1;33m\u001b[0m\u001b[0m\n\u001b[1;32m-> 1298\u001b[1;33m                 \u001b[1;32mraise\u001b[0m \u001b[0mKeyError\u001b[0m\u001b[1;33m(\u001b[0m\u001b[1;34mf\"None of [{key}] are in the [{axis_name}]\"\u001b[0m\u001b[1;33m)\u001b[0m\u001b[1;33m\u001b[0m\u001b[1;33m\u001b[0m\u001b[0m\n\u001b[0m\u001b[0;32m   1299\u001b[0m \u001b[1;33m\u001b[0m\u001b[0m\n\u001b[0;32m   1300\u001b[0m             \u001b[1;31m# We (temporarily) allow for some missing keys with .loc, except in\u001b[0m\u001b[1;33m\u001b[0m\u001b[1;33m\u001b[0m\u001b[1;33m\u001b[0m\u001b[0m\n",
      "\u001b[1;31mKeyError\u001b[0m: \"None of [Index(['rmse', 'val_rmse'], dtype='object')] are in the [columns]\""
     ]
    }
   ],
   "source": [
    "RMSE_COLS = ['rmse', 'val_rmse']\n",
    "\n",
    "pd.DataFrame(history.history)[RMSE_COLS].plot()"
   ]
  },
  {
   "cell_type": "code",
   "execution_count": 46,
   "metadata": {},
   "outputs": [
    {
     "data": {
      "text/plain": [
       "<AxesSubplot:>"
      ]
     },
     "execution_count": 46,
     "metadata": {},
     "output_type": "execute_result"
    },
    {
     "data": {
      "image/png": "[encoded data removed]",
      "text/plain": [
       "<Figure size 432x288 with 1 Axes>"
      ]
     },
     "metadata": {
      "needs_background": "light"
     },
     "output_type": "display_data"
    }
   ],
   "source": [
    "RMSE_COLS = ['loss', \"val_loss\"]\n",
    "\n",
    "pd.DataFrame(history.history)[RMSE_COLS].plot()"
   ]
  },
  {
   "cell_type": "code",
   "execution_count": 47,
   "metadata": {},
   "outputs": [
    {
     "data": {
      "text/html": [
       "<div>\n",
       "<style scoped>\n",
       "    .dataframe tbody tr th:only-of-type {\n",
       "        vertical-align: middle;\n",
       "    }\n",
       "\n",
       "    .dataframe tbody tr th {\n",
       "        vertical-align: top;\n",
       "    }\n",
       "\n",
       "    .dataframe thead th {\n",
       "        text-align: right;\n",
       "    }\n",
       "</style>\n",
       "<table border=\"1\" class=\"dataframe\">\n",
       "  <thead>\n",
       "    <tr style=\"text-align: right;\">\n",
       "      <th></th>\n",
       "      <th>120</th>\n",
       "      <th>4</th>\n",
       "      <th>setosa</th>\n",
       "      <th>versicolor</th>\n",
       "      <th>virginica</th>\n",
       "    </tr>\n",
       "  </thead>\n",
       "  <tbody>\n",
       "    <tr>\n",
       "      <th>0</th>\n",
       "      <td>6.4</td>\n",
       "      <td>2.8</td>\n",
       "      <td>5.6</td>\n",
       "      <td>2.2</td>\n",
       "      <td>2</td>\n",
       "    </tr>\n",
       "    <tr>\n",
       "      <th>1</th>\n",
       "      <td>5.0</td>\n",
       "      <td>2.3</td>\n",
       "      <td>3.3</td>\n",
       "      <td>1.0</td>\n",
       "      <td>1</td>\n",
       "    </tr>\n",
       "    <tr>\n",
       "      <th>2</th>\n",
       "      <td>4.9</td>\n",
       "      <td>2.5</td>\n",
       "      <td>4.5</td>\n",
       "      <td>1.7</td>\n",
       "      <td>2</td>\n",
       "    </tr>\n",
       "    <tr>\n",
       "      <th>3</th>\n",
       "      <td>4.9</td>\n",
       "      <td>3.1</td>\n",
       "      <td>1.5</td>\n",
       "      <td>0.1</td>\n",
       "      <td>0</td>\n",
       "    </tr>\n",
       "    <tr>\n",
       "      <th>4</th>\n",
       "      <td>5.7</td>\n",
       "      <td>3.8</td>\n",
       "      <td>1.7</td>\n",
       "      <td>0.3</td>\n",
       "      <td>0</td>\n",
       "    </tr>\n",
       "  </tbody>\n",
       "</table>\n",
       "</div>"
      ],
      "text/plain": [
       "   120    4  setosa  versicolor  virginica\n",
       "0  6.4  2.8     5.6         2.2          2\n",
       "1  5.0  2.3     3.3         1.0          1\n",
       "2  4.9  2.5     4.5         1.7          2\n",
       "3  4.9  3.1     1.5         0.1          0\n",
       "4  5.7  3.8     1.7         0.3          0"
      ]
     },
     "execution_count": 47,
     "metadata": {},
     "output_type": "execute_result"
    }
   ],
   "source": [
    "data.head()"
   ]
  },
  {
   "cell_type": "code",
   "execution_count": 48,
   "metadata": {},
   "outputs": [],
   "source": [
    "import numpy as np"
   ]
  },
  {
   "cell_type": "code",
   "execution_count": 49,
   "metadata": {},
   "outputs": [
    {
     "data": {
      "text/plain": [
       "array([[1., 0., 0.]], dtype=float32)"
      ]
     },
     "execution_count": 49,
     "metadata": {},
     "output_type": "execute_result"
    }
   ],
   "source": [
    "np.round(model.predict(x={\"sepal_length\": tf.convert_to_tensor([5]),\n",
    "                 \"sepal_width\": tf.convert_to_tensor([3]),\n",
    "                 \"petal_length\": tf.convert_to_tensor([1.6]),\n",
    "                 \"petal_width\": tf.convert_to_tensor([0.6])},\n",
    "              steps=1))"
   ]
  },
  {
   "cell_type": "markdown",
   "metadata": {},
   "source": [
    "## Evaluate the model's effectiveness\n"
   ]
  },
  {
   "cell_type": "code",
   "execution_count": 50,
   "metadata": {},
   "outputs": [],
   "source": [
    "test_url = \"https://storage.googleapis.com/download.tensorflow.org/data/iris_test.csv\"\n",
    "\n",
    "test_fp = tf.keras.utils.get_file(fname=os.path.basename(test_url),\n",
    "                                  origin=test_url)"
   ]
  },
  {
   "cell_type": "code",
   "execution_count": 51,
   "metadata": {},
   "outputs": [],
   "source": [
    "test_dataset = create_dataset(train_dataset_fp, batch_size=BATCH_SIZE, mode='eval')"
   ]
  },
  {
   "cell_type": "code",
   "execution_count": 52,
   "metadata": {},
   "outputs": [
    {
     "name": "stdout",
     "output_type": "stream",
     "text": [
      "OrderedDict([('sepal_length', <tf.Tensor: shape=(32,), dtype=float32, numpy=\n",
      "array([6.3, 6.1, 5.3, 5.1, 4.9, 4.7, 6.1, 5. , 5.5, 6. , 5.2, 5.2, 6.4,\n",
      "       5.1, 5.7, 5.6, 5.7, 6.4, 5.4, 5. , 4.9, 6.5, 6. , 6. , 5.4, 5.6,\n",
      "       6.8, 5. , 5.4, 6.7, 5.1, 5. ], dtype=float32)>), ('sepal_width', <tf.Tensor: shape=(32,), dtype=float32, numpy=\n",
      "array([3.3, 2.8, 3.7, 3.8, 2.4, 3.2, 2.9, 2.3, 2.4, 2.2, 2.7, 3.4, 2.7,\n",
      "       3.8, 3.8, 2.9, 2.8, 2.8, 3. , 3.5, 2.5, 3.2, 3. , 2.7, 3.7, 2.7,\n",
      "       3.2, 3.2, 3.4, 3.1, 3.7, 2. ], dtype=float32)>), ('petal_length', <tf.Tensor: shape=(32,), dtype=float32, numpy=\n",
      "array([6. , 4.7, 1.5, 1.5, 3.3, 1.6, 4.7, 3.3, 3.7, 5. , 3.9, 1.4, 5.3,\n",
      "       1.6, 1.7, 3.6, 4.5, 5.6, 4.5, 1.6, 4.5, 5.1, 4.8, 5.1, 1.5, 4.2,\n",
      "       5.9, 1.2, 1.5, 5.6, 1.5, 3.5], dtype=float32)>), ('petal_width', <tf.Tensor: shape=(32,), dtype=float32, numpy=\n",
      "array([2.5, 1.2, 0.2, 0.3, 1. , 0.2, 1.4, 1. , 1. , 1.5, 1.4, 0.2, 1.9,\n",
      "       0.2, 0.3, 1.3, 1.3, 2.2, 1.5, 0.6, 1.7, 2. , 1.8, 1.6, 0.2, 1.3,\n",
      "       2.3, 0.2, 0.4, 2.4, 0.4, 1. ], dtype=float32)>)]) tf.Tensor([2 1 0 0 1 0 1 1 1 2 1 0 2 0 0 1 1 2 1 0 2 2 2 1 0 1 2 0 0 2 0 1], shape=(32,), dtype=int32)\n"
     ]
    }
   ],
   "source": [
    "for features, label in test_dataset.take(1):\n",
    "    print(features, label)\n",
    "    break"
   ]
  },
  {
   "cell_type": "code",
   "execution_count": 53,
   "metadata": {},
   "outputs": [
    {
     "data": {
      "text/plain": [
       "array([[7.4254902e-05, 9.9992394e-01, 1.8123452e-06],\n",
       "       [4.9467626e-09, 8.1731814e-05, 9.9991822e-01],\n",
       "       [4.6959534e-09, 3.5739282e-05, 9.9996424e-01],\n",
       "       [1.4191461e-09, 1.0940657e-05, 9.9998903e-01],\n",
       "       [2.1305029e-06, 2.0762891e-02, 9.7923499e-01],\n",
       "       [9.9963856e-01, 3.6141084e-04, 3.0897693e-19],\n",
       "       [3.9265839e-09, 8.0860827e-06, 9.9999189e-01],\n",
       "       [1.1296302e-08, 1.0726749e-04, 9.9989271e-01],\n",
       "       [9.9875152e-01, 1.2485125e-03, 2.7598261e-18],\n",
       "       [9.9997282e-01, 2.7238191e-05, 8.6142254e-23],\n",
       "       [6.4029743e-10, 7.4865366e-06, 9.9999249e-01],\n",
       "       [2.4980212e-05, 1.5052092e-01, 8.4945410e-01],\n",
       "       [1.0333358e-04, 9.9937385e-01, 5.2288710e-04],\n",
       "       [9.9991214e-01, 8.7816719e-05, 7.5942984e-21],\n",
       "       [9.9961603e-01, 3.8397330e-04, 5.9129259e-19],\n",
       "       [1.8480746e-04, 9.9901450e-01, 8.0060679e-04],\n",
       "       [1.4708106e-08, 1.0180258e-04, 9.9989820e-01],\n",
       "       [1.3564518e-09, 7.0440424e-06, 9.9999297e-01],\n",
       "       [1.1323080e-04, 9.9988663e-01, 1.5088902e-07],\n",
       "       [2.1083959e-04, 9.9977654e-01, 1.2671384e-05],\n",
       "       [9.9986565e-01, 1.3438221e-04, 6.7295824e-21],\n",
       "       [9.9963856e-01, 3.6141084e-04, 3.0897693e-19],\n",
       "       [1.9406190e-09, 2.4765097e-05, 9.9997520e-01],\n",
       "       [9.9990892e-01, 9.1096670e-05, 4.3265916e-21],\n",
       "       [9.9993527e-01, 6.4737738e-05, 8.5971684e-21],\n",
       "       [8.3309213e-05, 9.9991465e-01, 2.0663931e-06],\n",
       "       [9.9895084e-01, 1.0490797e-03, 4.2317886e-18],\n",
       "       [3.3885492e-08, 2.7036131e-04, 9.9972957e-01],\n",
       "       [1.5123475e-04, 9.9795961e-01, 1.8891675e-03],\n",
       "       [9.9965155e-01, 3.4840088e-04, 5.4234459e-19],\n",
       "       [9.9976581e-01, 2.3422470e-04, 4.9770016e-20],\n",
       "       [5.5381347e-06, 3.4424420e-02, 9.6557003e-01]], dtype=float32)"
      ]
     },
     "execution_count": 53,
     "metadata": {},
     "output_type": "execute_result"
    }
   ],
   "source": [
    "model.predict(test_dataset, steps=1)"
   ]
  },
  {
   "cell_type": "code",
   "execution_count": 54,
   "metadata": {},
   "outputs": [],
   "source": [
    "y = []\n",
    "for features, labels in test_dataset.take(1):\n",
    "    y = labels.numpy()"
   ]
  },
  {
   "cell_type": "code",
   "execution_count": 55,
   "metadata": {},
   "outputs": [
    {
     "data": {
      "text/plain": [
       "array([1, 2, 1, 1, 0, 2, 0, 2, 1, 0, 0, 0, 1, 2, 2, 1, 0, 1, 0, 2, 1, 0,\n",
       "       0, 2, 2, 2, 0, 2, 0, 1, 2, 0])"
      ]
     },
     "execution_count": 55,
     "metadata": {},
     "output_type": "execute_result"
    }
   ],
   "source": [
    "y"
   ]
  },
  {
   "cell_type": "code",
   "execution_count": 56,
   "metadata": {},
   "outputs": [],
   "source": [
    "x = []\n",
    "for prediction in model.predict(test_dataset, steps=1):\n",
    "    x.append(tf.argmax(prediction).numpy())"
   ]
  },
  {
   "cell_type": "code",
   "execution_count": 57,
   "metadata": {},
   "outputs": [
    {
     "data": {
      "text/plain": [
       "[2,\n",
       " 2,\n",
       " 2,\n",
       " 1,\n",
       " 2,\n",
       " 0,\n",
       " 2,\n",
       " 0,\n",
       " 0,\n",
       " 2,\n",
       " 2,\n",
       " 0,\n",
       " 2,\n",
       " 1,\n",
       " 0,\n",
       " 2,\n",
       " 2,\n",
       " 1,\n",
       " 1,\n",
       " 1,\n",
       " 1,\n",
       " 0,\n",
       " 1,\n",
       " 0,\n",
       " 0,\n",
       " 2,\n",
       " 2,\n",
       " 1,\n",
       " 0,\n",
       " 2,\n",
       " 2,\n",
       " 2]"
      ]
     },
     "execution_count": 57,
     "metadata": {},
     "output_type": "execute_result"
    }
   ],
   "source": [
    "x"
   ]
  },
  {
   "cell_type": "code",
   "execution_count": 58,
   "metadata": {},
   "outputs": [
    {
     "data": {
      "text/plain": [
       "<tf.Tensor: shape=(32, 2), dtype=int32, numpy=\n",
       "array([[1, 2],\n",
       "       [2, 2],\n",
       "       [1, 2],\n",
       "       [1, 1],\n",
       "       [0, 2],\n",
       "       [2, 0],\n",
       "       [0, 2],\n",
       "       [2, 0],\n",
       "       [1, 0],\n",
       "       [0, 2],\n",
       "       [0, 2],\n",
       "       [0, 0],\n",
       "       [1, 2],\n",
       "       [2, 1],\n",
       "       [2, 0],\n",
       "       [1, 2],\n",
       "       [0, 2],\n",
       "       [1, 1],\n",
       "       [0, 1],\n",
       "       [2, 1],\n",
       "       [1, 1],\n",
       "       [0, 0],\n",
       "       [0, 1],\n",
       "       [2, 0],\n",
       "       [2, 0],\n",
       "       [2, 2],\n",
       "       [0, 2],\n",
       "       [2, 1],\n",
       "       [0, 0],\n",
       "       [1, 2],\n",
       "       [2, 2],\n",
       "       [0, 2]])>"
      ]
     },
     "execution_count": 58,
     "metadata": {},
     "output_type": "execute_result"
    }
   ],
   "source": [
    "tf.stack([y,x],axis=1)"
   ]
  },
  {
   "cell_type": "code",
   "execution_count": null,
   "metadata": {},
   "outputs": [],
   "source": []
  }
 ],
 "metadata": {
  "kernelspec": {
   "display_name": "Python 3",
   "language": "python",
   "name": "python3"
  },
  "language_info": {
   "codemirror_mode": {
    "name": "ipython",
    "version": 3
   },
   "file_extension": ".py",
   "mimetype": "text/x-python",
   "name": "python",
   "nbconvert_exporter": "python",
   "pygments_lexer": "ipython3",
   "version": "3.8.5"
  }
 },
 "nbformat": 4,
 "nbformat_minor": 4
}
