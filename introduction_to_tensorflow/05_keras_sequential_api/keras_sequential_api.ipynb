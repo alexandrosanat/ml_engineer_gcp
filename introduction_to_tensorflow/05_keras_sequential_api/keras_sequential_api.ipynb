{
 "cells": [
  {
   "cell_type": "markdown",
   "metadata": {},
   "source": [
    "# Introducing the Keras Sequential API\n",
    "\n",
    "**Learning Objectives**\n",
    "  1. Learn how to use feature columns in a Keras model\n",
    "  1. Build a DNN model using the Keras Sequential API\n",
    "  1. Learn how to train a model with Keras\n",
    "  1. Learn how to save/load, and deploy a Keras model on GCP\n",
    "  1. Learn how to deploy and make predictions with at Keras model\n",
    "\n",
    "## Introduction\n",
    "\n",
    "The [Keras sequential API](https://keras.io/models/sequential/) allows you to create Tensorflow models layer-by-layer. This is useful for building most kinds of machine learning models but it does not allow you to create models that share layers, re-use layers or have multiple inputs or outputs. \n",
    "\n",
    "In this lab, we'll see how to build a simple deep neural network model using the keras sequential api and feature columns. Once we have trained our model, we will deploy it using AI Platform and see how to call our model for online prediciton.\n"
   ]
  },
  {
   "cell_type": "code",
   "execution_count": 1,
   "metadata": {},
   "outputs": [
    {
     "name": "stdout",
     "output_type": "stream",
     "text": [
      "2.2.0\n"
     ]
    }
   ],
   "source": [
    "import datetime\n",
    "import os\n",
    "import shutil\n",
    "\n",
    "import numpy as np\n",
    "import pandas as pd\n",
    "import tensorflow as tf\n",
    "\n",
    "from matplotlib import pyplot as plt\n",
    "from tensorflow import keras\n",
    "\n",
    "from tensorflow.keras.models import Sequential\n",
    "from tensorflow.keras.layers import Dense, DenseFeatures\n",
    "from tensorflow.keras.callbacks import TensorBoard\n",
    "\n",
    "print(tf.__version__)\n",
    "%matplotlib inline"
   ]
  },
  {
   "cell_type": "code",
   "execution_count": 2,
   "metadata": {},
   "outputs": [
    {
     "data": {
      "text/html": [
       "<div>\n",
       "<style scoped>\n",
       "    .dataframe tbody tr th:only-of-type {\n",
       "        vertical-align: middle;\n",
       "    }\n",
       "\n",
       "    .dataframe tbody tr th {\n",
       "        vertical-align: top;\n",
       "    }\n",
       "\n",
       "    .dataframe thead th {\n",
       "        text-align: right;\n",
       "    }\n",
       "</style>\n",
       "<table border=\"1\" class=\"dataframe\">\n",
       "  <thead>\n",
       "    <tr style=\"text-align: right;\">\n",
       "      <th></th>\n",
       "      <th>fare_amount</th>\n",
       "      <th>pickup_datetime</th>\n",
       "      <th>pickup_longitude</th>\n",
       "      <th>pickup_latitude</th>\n",
       "      <th>dropoff_longitude</th>\n",
       "      <th>dropoff_latitude</th>\n",
       "      <th>passenger_count</th>\n",
       "      <th>key</th>\n",
       "    </tr>\n",
       "  </thead>\n",
       "  <tbody>\n",
       "    <tr>\n",
       "      <th>0</th>\n",
       "      <td>6.0</td>\n",
       "      <td>2013-03-27 03:35:00 UTC</td>\n",
       "      <td>-73.977672</td>\n",
       "      <td>40.784052</td>\n",
       "      <td>-73.965332</td>\n",
       "      <td>40.801025</td>\n",
       "      <td>2</td>\n",
       "      <td>0</td>\n",
       "    </tr>\n",
       "    <tr>\n",
       "      <th>1</th>\n",
       "      <td>19.3</td>\n",
       "      <td>2012-05-10 18:43:16 UTC</td>\n",
       "      <td>-73.954366</td>\n",
       "      <td>40.778924</td>\n",
       "      <td>-74.004094</td>\n",
       "      <td>40.723104</td>\n",
       "      <td>1</td>\n",
       "      <td>1</td>\n",
       "    </tr>\n",
       "    <tr>\n",
       "      <th>2</th>\n",
       "      <td>7.5</td>\n",
       "      <td>2014-05-20 23:09:00 UTC</td>\n",
       "      <td>-73.999165</td>\n",
       "      <td>40.738377</td>\n",
       "      <td>-74.003473</td>\n",
       "      <td>40.723862</td>\n",
       "      <td>2</td>\n",
       "      <td>2</td>\n",
       "    </tr>\n",
       "    <tr>\n",
       "      <th>3</th>\n",
       "      <td>12.5</td>\n",
       "      <td>2015-02-23 19:51:31 UTC</td>\n",
       "      <td>-73.965210</td>\n",
       "      <td>40.769482</td>\n",
       "      <td>-73.989494</td>\n",
       "      <td>40.739742</td>\n",
       "      <td>1</td>\n",
       "      <td>3</td>\n",
       "    </tr>\n",
       "    <tr>\n",
       "      <th>4</th>\n",
       "      <td>10.9</td>\n",
       "      <td>2011-03-19 03:32:00 UTC</td>\n",
       "      <td>-73.992590</td>\n",
       "      <td>40.742957</td>\n",
       "      <td>-73.989908</td>\n",
       "      <td>40.711053</td>\n",
       "      <td>1</td>\n",
       "      <td>4</td>\n",
       "    </tr>\n",
       "  </tbody>\n",
       "</table>\n",
       "</div>"
      ],
      "text/plain": [
       "   fare_amount          pickup_datetime  pickup_longitude  pickup_latitude  \\\n",
       "0          6.0  2013-03-27 03:35:00 UTC        -73.977672        40.784052   \n",
       "1         19.3  2012-05-10 18:43:16 UTC        -73.954366        40.778924   \n",
       "2          7.5  2014-05-20 23:09:00 UTC        -73.999165        40.738377   \n",
       "3         12.5  2015-02-23 19:51:31 UTC        -73.965210        40.769482   \n",
       "4         10.9  2011-03-19 03:32:00 UTC        -73.992590        40.742957   \n",
       "\n",
       "   dropoff_longitude  dropoff_latitude  passenger_count  key  \n",
       "0         -73.965332         40.801025                2    0  \n",
       "1         -74.004094         40.723104                1    1  \n",
       "2         -74.003473         40.723862                2    2  \n",
       "3         -73.989494         40.739742                1    3  \n",
       "4         -73.989908         40.711053                1    4  "
      ]
     },
     "execution_count": 2,
     "metadata": {},
     "output_type": "execute_result"
    }
   ],
   "source": [
    "#Explore dataset\n",
    "path = '../data/taxi-test.csv'\n",
    "\n",
    "data = pd.read_csv(path, names=['fare_amount',\n",
    "                                'pickup_datetime',\n",
    "                                'pickup_longitude',\n",
    "                                'pickup_latitude',\n",
    "                                'dropoff_longitude',\n",
    "                                'dropoff_latitude',\n",
    "                                'passenger_count',\n",
    "                                'key'])\n",
    "data.head()"
   ]
  },
  {
   "cell_type": "code",
   "execution_count": 3,
   "metadata": {},
   "outputs": [
    {
     "data": {
      "text/plain": [
       "1572"
      ]
     },
     "execution_count": 3,
     "metadata": {},
     "output_type": "execute_result"
    }
   ],
   "source": [
    "len(data)"
   ]
  },
  {
   "cell_type": "markdown",
   "metadata": {},
   "source": [
    "## Load raw data \n",
    "\n",
    "We will use the taxifare dataset, using the CSV files that we created in the first notebook of this sequence. Those files have been saved into `../data`."
   ]
  },
  {
   "cell_type": "code",
   "execution_count": 4,
   "metadata": {},
   "outputs": [],
   "source": [
    "CSV_COLUMNS = [\n",
    "    'fare_amount',\n",
    "    'pickup_datetime',\n",
    "    'pickup_longitude',\n",
    "    'pickup_latitude',\n",
    "    'dropoff_longitude',\n",
    "    'dropoff_latitude',\n",
    "    'passenger_count',\n",
    "    'key'\n",
    "]\n",
    "LABEL_COLUMN = 'fare_amount'\n",
    "DEFAULTS = [[0.0], ['na'], [0.0], [0.0], [0.0], [0.0], [0.0], ['na']]\n",
    "UNWANTED_COLS = ['pickup_datetime', 'key']\n",
    "\n",
    "\n",
    "def features_and_labels(row_data):\n",
    "    label = row_data.pop(LABEL_COLUMN)\n",
    "    features = row_data\n",
    "    \n",
    "    for unwanted_col in UNWANTED_COLS:\n",
    "        features.pop(unwanted_col)\n",
    "\n",
    "    return features, label\n",
    "\n",
    "\n",
    "def create_dataset(pattern, batch_size=1, mode='eval'):\n",
    "    dataset = tf.data.experimental.make_csv_dataset(\n",
    "        pattern, batch_size, CSV_COLUMNS, DEFAULTS)\n",
    "\n",
    "    dataset = dataset.map(features_and_labels)\n",
    "\n",
    "    if mode == 'train':\n",
    "        dataset = dataset.shuffle(buffer_size=1000).repeat()\n",
    "\n",
    "    # take advantage of multi-threading; 1=AUTOTUNE\n",
    "    dataset = dataset.prefetch(1)\n",
    "    return dataset"
   ]
  },
  {
   "cell_type": "markdown",
   "metadata": {},
   "source": [
    "## Build a simple keras DNN model\n",
    "\n",
    "We will use feature columns to connect our raw data to our keras DNN model. Feature columns make it easy to perform common types of feature engineering on your raw data. For example, you can one-hot encode categorical data, create feature crosses, embeddings and more. We'll cover these in more detail later in the course, but if you want to a sneak peak browse the official TensorFlow [feature columns guide](https://www.tensorflow.org/guide/feature_columns).\n",
    "\n",
    "In our case we won't do any feature engineering. However, we still need to create a list of feature columns to specify the numeric values which will be passed on to our model. To do this, we use `tf.feature_column.numeric_column()`\n",
    "\n",
    "We use a python dictionary comprehension to create the feature columns for our model, which is just an elegant alternative to a for loop."
   ]
  },
  {
   "cell_type": "code",
   "execution_count": 5,
   "metadata": {},
   "outputs": [],
   "source": [
    "INPUT_COLS = [\n",
    "    'pickup_longitude',\n",
    "    'pickup_latitude',\n",
    "    'dropoff_longitude',\n",
    "    'dropoff_latitude',\n",
    "    'passenger_count',\n",
    "]\n",
    "\n",
    "# Create input layer of feature columns\n",
    "# TODO 1\n",
    "feature_columns = {header: tf.feature_column.numeric_column(header) for header in INPUT_COLS}"
   ]
  },
  {
   "cell_type": "markdown",
   "metadata": {},
   "source": [
    "Next, we create the DNN model. The Sequential model is a linear stack of layers and when building a model using the Sequential API, you configure each layer of the model in turn. Once all the layers have been added, you compile the model. "
   ]
  },
  {
   "cell_type": "markdown",
   "metadata": {},
   "source": [
    "**Lab Task #2a:** Create a deep neural network using Keras's Sequential API. In the cell below, use the `tf.keras.layers` library to create all the layers for your deep neural network. "
   ]
  },
  {
   "cell_type": "code",
   "execution_count": 6,
   "metadata": {},
   "outputs": [],
   "source": [
    "# Build a keras DNN model using Sequential API\n",
    "model = Sequential([\n",
    "    DenseFeatures(feature_columns=feature_columns.values()),\n",
    "    Dense(32, activation=\"relu\", name=\"h1\"),\n",
    "    Dense(units=8, activation=\"relu\", name=\"h2\"),\n",
    "    Dense(units=1, activation=\"linear\", name=\"output\")\n",
    "])"
   ]
  },
  {
   "cell_type": "markdown",
   "metadata": {},
   "source": [
    "Next, to prepare the model for training, you must configure the learning process. This is done using the compile method. The compile method takes three arguments:\n",
    "\n",
    "* An optimizer. This could be the string identifier of an existing optimizer (such as `rmsprop` or `adagrad`), or an instance of the [Optimizer class](https://www.tensorflow.org/versions/r2.0/api_docs/python/tf/keras/optimizers).\n",
    "* A loss function. This is the objective that the model will try to minimize. It can be the string identifier of an existing loss function from the [Losses class](https://www.tensorflow.org/versions/r2.0/api_docs/python/tf/keras/losses) (such as categorical_crossentropy or mse), or it can be a custom objective function.\n",
    "* A list of metrics. For any machine learning problem you will want a set of metrics to evaluate your model. A metric could be the string identifier of an existing metric or a custom metric function.\n",
    "\n",
    "We will add an additional custom metric called `rmse` to our list of metrics which will return the root mean square error. "
   ]
  },
  {
   "cell_type": "code",
   "execution_count": 7,
   "metadata": {},
   "outputs": [],
   "source": [
    "# TODO 2b\n",
    "# Create a custom evalution metric\n",
    "def rmse(y_true, y_pred):\n",
    "    return tf.sqrt(tf.reduce_mean(tf.square(y_pred - y_true)))\n",
    "\n",
    "\n",
    "# Compile the keras model\n",
    "model.compile(optimizer=\"adam\",\n",
    "             loss=\"mse\",\n",
    "             metrics=[\"mse\", rmse])"
   ]
  },
  {
   "cell_type": "markdown",
   "metadata": {},
   "source": [
    "## Train the model\n",
    "\n",
    "To train your model, Keras provides three functions that can be used:\n",
    " 1. `.fit()` for training a model for a fixed number of epochs (iterations on a dataset).\n",
    " 2. `.fit_generator()` for training a model on data yielded batch-by-batch by a generator\n",
    " 3. `.train_on_batch()` runs a single gradient update on a single batch of data. \n",
    " \n",
    "The `.fit()` function works well for small datasets which can fit entirely in memory. However, for large datasets (or if you need to manipulate the training data on the fly via data augmentation, etc) you will need to use `.fit_generator()` instead. The `.train_on_batch()` method is for more fine-grained control over training and accepts only a single batch of data.\n",
    "\n",
    "The taxifare dataset we sampled is small enough to fit in memory, so can we could use `.fit` to train our model. Our `create_dataset` function above generates batches of training examples, so we could also use `.fit_generator`. In fact, when calling `.fit` the method inspects the data, and if it's a generator (as our dataset is) it will invoke automatically `.fit_generator` for training. \n",
    "\n",
    "We start by setting up some parameters for our training job and create the data generators for the training and validation data.\n",
    "\n",
    "We refer you the the blog post [ML Design Pattern #3: Virtual Epochs](https://medium.com/google-cloud/ml-design-pattern-3-virtual-epochs-f842296de730) for further details on why express the training in terms of `NUM_TRAIN_EXAMPLES` and `NUM_EVALS` and why, in this training code, the number of epochs is really equal to the number of evaluations we perform."
   ]
  },
  {
   "cell_type": "code",
   "execution_count": 8,
   "metadata": {},
   "outputs": [],
   "source": [
    "TRAIN_BATCH_SIZE = 1000\n",
    "NUM_TRAIN_EXAMPLES = 10000 * 5  # training dataset will repeat, wrap around\n",
    "NUM_EVALS = 50  # how many times to evaluate\n",
    "NUM_EVAL_EXAMPLES = 10000  # enough to get a reasonable sample\n",
    "\n",
    "trainds = create_dataset(\n",
    "    pattern='../data/taxi-train*',\n",
    "    batch_size=TRAIN_BATCH_SIZE,\n",
    "    mode='train')\n",
    "\n",
    "evalds = create_dataset(\n",
    "    pattern='../data/taxi-valid*',\n",
    "    batch_size=1000,\n",
    "    mode='eval').take(NUM_EVAL_EXAMPLES//1000)"
   ]
  },
  {
   "cell_type": "markdown",
   "metadata": {},
   "source": [
    "There are various arguments you can set when calling the [.fit method](https://www.tensorflow.org/versions/r2.0/api_docs/python/tf/keras/Model#fit). Here `x` specifies the input data which in our case is a `tf.data` dataset returning a tuple of (inputs, targets). The `steps_per_epoch` parameter is used to mark the end of training for a single epoch. Here we are training for NUM_EVALS epochs. Lastly, for the `callback` argument we specify a Tensorboard callback so we can inspect Tensorboard after training. \n",
    "\n",
    "**Lab Task #3:** In the cell below, you will train your model. First, define the `steps_per_epoch` then train your model using `.fit()`, saving the model training output to a variable called `history`."
   ]
  },
  {
   "cell_type": "code",
   "execution_count": 9,
   "metadata": {},
   "outputs": [
    {
     "name": "stdout",
     "output_type": "stream",
     "text": [
      "Wall time: 0 ns\n",
      "Epoch 1/50\n",
      "1/1 [==============================] - 0s 303ms/step - loss: 204.7796 - mse: 204.7796 - rmse: 14.3101 - val_loss: 156.2522 - val_mse: 156.2522 - val_rmse: 12.4904\n",
      "Epoch 2/50\n",
      "1/1 [==============================] - ETA: 0s - loss: 144.3576 - mse: 144.3576 - rmse: 12.0149WARNING:tensorflow:Method (on_train_batch_end) is slow compared to the batch update (0.537344). Check your callbacks.\n",
      "1/1 [==============================] - 0s 126ms/step - loss: 144.3576 - mse: 144.3576 - rmse: 12.0149 - val_loss: 135.7044 - val_mse: 135.7044 - val_rmse: 11.6457\n",
      "Epoch 3/50\n",
      "1/1 [==============================] - 0s 140ms/step - loss: 115.8951 - mse: 115.8951 - rmse: 10.7655 - val_loss: 122.0909 - val_mse: 122.0909 - val_rmse: 11.0463\n",
      "Epoch 4/50\n",
      "1/1 [==============================] - 0s 127ms/step - loss: 108.8609 - mse: 108.8609 - rmse: 10.4336 - val_loss: 115.7140 - val_mse: 115.7140 - val_rmse: 10.7333\n",
      "Epoch 5/50\n",
      "1/1 [==============================] - 0s 127ms/step - loss: 104.5768 - mse: 104.5768 - rmse: 10.2263 - val_loss: 111.7310 - val_mse: 111.7310 - val_rmse: 10.5608\n",
      "Epoch 6/50\n",
      "1/1 [==============================] - 0s 129ms/step - loss: 101.3176 - mse: 101.3176 - rmse: 10.0657 - val_loss: 111.3025 - val_mse: 111.3025 - val_rmse: 10.5456\n",
      "Epoch 7/50\n",
      "1/1 [==============================] - 0s 127ms/step - loss: 93.8831 - mse: 93.8831 - rmse: 9.6893 - val_loss: 113.9552 - val_mse: 113.9552 - val_rmse: 10.6624\n",
      "Epoch 8/50\n",
      "1/1 [==============================] - 0s 133ms/step - loss: 92.4386 - mse: 92.4386 - rmse: 9.6145 - val_loss: 118.8783 - val_mse: 118.8783 - val_rmse: 10.8809\n",
      "Epoch 9/50\n",
      "1/1 [==============================] - 0s 133ms/step - loss: 112.8641 - mse: 112.8641 - rmse: 10.6238 - val_loss: 121.6509 - val_mse: 121.6509 - val_rmse: 10.9921\n",
      "Epoch 10/50\n",
      "1/1 [==============================] - 0s 157ms/step - loss: 109.9489 - mse: 109.9489 - rmse: 10.4857 - val_loss: 124.5703 - val_mse: 124.5703 - val_rmse: 11.1470\n",
      "Epoch 11/50\n",
      "1/1 [==============================] - 0s 137ms/step - loss: 105.5549 - mse: 105.5549 - rmse: 10.2740 - val_loss: 123.8965 - val_mse: 123.8965 - val_rmse: 11.1151\n",
      "Epoch 12/50\n",
      "1/1 [==============================] - 0s 132ms/step - loss: 120.4566 - mse: 120.4566 - rmse: 10.9753 - val_loss: 124.8733 - val_mse: 124.8733 - val_rmse: 11.1662\n",
      "Epoch 13/50\n",
      "1/1 [==============================] - 0s 133ms/step - loss: 106.0436 - mse: 106.0436 - rmse: 10.2977 - val_loss: 120.1286 - val_mse: 120.1286 - val_rmse: 10.9271\n",
      "Epoch 14/50\n",
      "1/1 [==============================] - 0s 128ms/step - loss: 79.8491 - mse: 79.8491 - rmse: 8.9358 - val_loss: 119.6390 - val_mse: 119.6390 - val_rmse: 10.9276\n",
      "Epoch 15/50\n",
      "1/1 [==============================] - 0s 127ms/step - loss: 117.6373 - mse: 117.6373 - rmse: 10.8461 - val_loss: 116.1277 - val_mse: 116.1277 - val_rmse: 10.7612\n",
      "Epoch 16/50\n",
      "1/1 [==============================] - 0s 134ms/step - loss: 99.3303 - mse: 99.3303 - rmse: 9.9665 - val_loss: 113.1629 - val_mse: 113.1629 - val_rmse: 10.6326\n",
      "Epoch 17/50\n",
      "1/1 [==============================] - 0s 135ms/step - loss: 89.0572 - mse: 89.0572 - rmse: 9.4370 - val_loss: 111.8786 - val_mse: 111.8786 - val_rmse: 10.5516\n",
      "Epoch 18/50\n",
      "1/1 [==============================] - 0s 134ms/step - loss: 115.9498 - mse: 115.9498 - rmse: 10.7680 - val_loss: 112.3611 - val_mse: 112.3611 - val_rmse: 10.5821\n",
      "Epoch 19/50\n",
      "1/1 [==============================] - 0s 123ms/step - loss: 73.3548 - mse: 73.3548 - rmse: 8.5647 - val_loss: 110.5796 - val_mse: 110.5796 - val_rmse: 10.5061\n",
      "Epoch 20/50\n",
      "1/1 [==============================] - 0s 142ms/step - loss: 112.9837 - mse: 112.9837 - rmse: 10.6294 - val_loss: 110.1396 - val_mse: 110.1396 - val_rmse: 10.4855\n",
      "Epoch 21/50\n",
      "1/1 [==============================] - 0s 140ms/step - loss: 104.4184 - mse: 104.4184 - rmse: 10.2185 - val_loss: 109.4783 - val_mse: 109.4783 - val_rmse: 10.4562\n",
      "Epoch 22/50\n",
      "1/1 [==============================] - 0s 140ms/step - loss: 94.4176 - mse: 94.4176 - rmse: 9.7169 - val_loss: 111.3952 - val_mse: 111.3952 - val_rmse: 10.5381\n",
      "Epoch 23/50\n",
      "1/1 [==============================] - 0s 136ms/step - loss: 85.4020 - mse: 85.4020 - rmse: 9.2413 - val_loss: 111.0401 - val_mse: 111.0401 - val_rmse: 10.5183\n",
      "Epoch 24/50\n",
      "1/1 [==============================] - 0s 131ms/step - loss: 95.6676 - mse: 95.6676 - rmse: 9.7810 - val_loss: 113.1176 - val_mse: 113.1176 - val_rmse: 10.6325\n",
      "Epoch 25/50\n",
      "1/1 [==============================] - 0s 134ms/step - loss: 89.4622 - mse: 89.4622 - rmse: 9.4584 - val_loss: 111.6204 - val_mse: 111.6204 - val_rmse: 10.5639\n",
      "Epoch 26/50\n",
      "1/1 [==============================] - 0s 133ms/step - loss: 96.7108 - mse: 96.7108 - rmse: 9.8342 - val_loss: 111.8094 - val_mse: 111.8094 - val_rmse: 10.5595\n",
      "Epoch 27/50\n",
      "1/1 [==============================] - 0s 116ms/step - loss: 123.6275 - mse: 123.6275 - rmse: 11.1188 - val_loss: 110.4465 - val_mse: 110.4465 - val_rmse: 10.5013\n",
      "Epoch 28/50\n",
      "1/1 [==============================] - 0s 123ms/step - loss: 90.7830 - mse: 90.7830 - rmse: 9.5280 - val_loss: 111.3160 - val_mse: 111.3160 - val_rmse: 10.5353\n",
      "Epoch 29/50\n",
      "1/1 [==============================] - 0s 116ms/step - loss: 88.7673 - mse: 88.7673 - rmse: 9.4216 - val_loss: 111.2664 - val_mse: 111.2664 - val_rmse: 10.5373\n",
      "Epoch 30/50\n",
      "1/1 [==============================] - 0s 117ms/step - loss: 116.7919 - mse: 116.7919 - rmse: 10.8070 - val_loss: 109.9616 - val_mse: 109.9616 - val_rmse: 10.4630\n",
      "Epoch 31/50\n",
      "1/1 [==============================] - 0s 112ms/step - loss: 101.8775 - mse: 101.8775 - rmse: 10.0934 - val_loss: 110.8732 - val_mse: 110.8732 - val_rmse: 10.5182\n",
      "Epoch 32/50\n",
      "1/1 [==============================] - 0s 119ms/step - loss: 131.1106 - mse: 131.1106 - rmse: 11.4504 - val_loss: 110.2535 - val_mse: 110.2535 - val_rmse: 10.4799\n",
      "Epoch 33/50\n",
      "1/1 [==============================] - 0s 117ms/step - loss: 89.5392 - mse: 89.5392 - rmse: 9.4625 - val_loss: 110.4475 - val_mse: 110.4475 - val_rmse: 10.4997\n",
      "Epoch 34/50\n",
      "1/1 [==============================] - 0s 113ms/step - loss: 91.5441 - mse: 91.5441 - rmse: 9.5679 - val_loss: 112.6044 - val_mse: 112.6044 - val_rmse: 10.5948\n",
      "Epoch 35/50\n",
      "1/1 [==============================] - 0s 117ms/step - loss: 93.7366 - mse: 93.7366 - rmse: 9.6818 - val_loss: 111.2050 - val_mse: 111.2050 - val_rmse: 10.5360\n",
      "Epoch 36/50\n",
      "1/1 [==============================] - 0s 117ms/step - loss: 85.1266 - mse: 85.1266 - rmse: 9.2264 - val_loss: 112.0387 - val_mse: 112.0387 - val_rmse: 10.5784\n",
      "Epoch 37/50\n",
      "1/1 [==============================] - 0s 114ms/step - loss: 83.0873 - mse: 83.0873 - rmse: 9.1152 - val_loss: 114.9778 - val_mse: 114.9778 - val_rmse: 10.6956\n",
      "Epoch 38/50\n",
      "1/1 [==============================] - 0s 116ms/step - loss: 101.9118 - mse: 101.9118 - rmse: 10.0951 - val_loss: 112.0202 - val_mse: 112.0202 - val_rmse: 10.5714\n",
      "Epoch 39/50\n",
      "1/1 [==============================] - 0s 115ms/step - loss: 128.8791 - mse: 128.8791 - rmse: 11.3525 - val_loss: 109.6329 - val_mse: 109.6329 - val_rmse: 10.4446\n",
      "Epoch 40/50\n",
      "1/1 [==============================] - 0s 121ms/step - loss: 82.4584 - mse: 82.4584 - rmse: 9.0807 - val_loss: 110.8194 - val_mse: 110.8194 - val_rmse: 10.5125\n",
      "Epoch 41/50\n",
      "1/1 [==============================] - 0s 118ms/step - loss: 104.4359 - mse: 104.4359 - rmse: 10.2194 - val_loss: 111.9994 - val_mse: 111.9994 - val_rmse: 10.5693\n",
      "Epoch 42/50\n",
      "1/1 [==============================] - 0s 122ms/step - loss: 82.3219 - mse: 82.3219 - rmse: 9.0731 - val_loss: 110.2868 - val_mse: 110.2868 - val_rmse: 10.4939\n",
      "Epoch 43/50\n",
      "1/1 [==============================] - 0s 116ms/step - loss: 84.1306 - mse: 84.1306 - rmse: 9.1723 - val_loss: 109.3909 - val_mse: 109.3909 - val_rmse: 10.4501\n",
      "Epoch 44/50\n",
      "1/1 [==============================] - 0s 124ms/step - loss: 104.3616 - mse: 104.3616 - rmse: 10.2158 - val_loss: 111.6602 - val_mse: 111.6602 - val_rmse: 10.5618\n",
      "Epoch 45/50\n",
      "1/1 [==============================] - 0s 114ms/step - loss: 116.2376 - mse: 116.2376 - rmse: 10.7814 - val_loss: 111.1762 - val_mse: 111.1762 - val_rmse: 10.5219\n",
      "Epoch 46/50\n",
      "1/1 [==============================] - 0s 115ms/step - loss: 110.6393 - mse: 110.6393 - rmse: 10.5185 - val_loss: 111.3333 - val_mse: 111.3333 - val_rmse: 10.5224\n",
      "Epoch 47/50\n",
      "1/1 [==============================] - 0s 118ms/step - loss: 64.8010 - mse: 64.8010 - rmse: 8.0499 - val_loss: 111.3171 - val_mse: 111.3171 - val_rmse: 10.5449\n",
      "Epoch 48/50\n",
      "1/1 [==============================] - 0s 115ms/step - loss: 135.2705 - mse: 135.2705 - rmse: 11.6306 - val_loss: 109.5089 - val_mse: 109.5089 - val_rmse: 10.4578\n",
      "Epoch 49/50\n",
      "1/1 [==============================] - 0s 122ms/step - loss: 143.9779 - mse: 143.9779 - rmse: 11.9991 - val_loss: 110.4005 - val_mse: 110.4005 - val_rmse: 10.5014\n",
      "Epoch 50/50\n",
      "1/1 [==============================] - 0s 138ms/step - loss: 103.5488 - mse: 103.5488 - rmse: 10.1759 - val_loss: 110.6923 - val_mse: 110.6923 - val_rmse: 10.4902\n"
     ]
    }
   ],
   "source": [
    "# TODO 3\n",
    "%time \n",
    "steps_per_epoch = NUM_TRAIN_EXAMPLES // (TRAIN_BATCH_SIZE * NUM_EVALS)\n",
    "\n",
    "LOGDIR = \"./taxi_trained\"\n",
    "history = model.fit(trainds,\n",
    "                    steps_per_epoch=steps_per_epoch,\n",
    "                    epochs=NUM_EVALS,\n",
    "                    validation_data=evalds,\n",
    "                    callbacks=[TensorBoard(LOGDIR)])"
   ]
  },
  {
   "cell_type": "markdown",
   "metadata": {},
   "source": [
    "### High-level model evaluation\n",
    "\n",
    "Once we've run data through the model, we can call `.summary()` on the model to get a high-level summary of our network. We can also plot the training and evaluation curves for the metrics we computed above. "
   ]
  },
  {
   "cell_type": "code",
   "execution_count": 10,
   "metadata": {},
   "outputs": [
    {
     "name": "stdout",
     "output_type": "stream",
     "text": [
      "Model: \"sequential\"\n",
      "_________________________________________________________________\n",
      "Layer (type)                 Output Shape              Param #   \n",
      "=================================================================\n",
      "dense_features (DenseFeature multiple                  0         \n",
      "_________________________________________________________________\n",
      "h1 (Dense)                   multiple                  192       \n",
      "_________________________________________________________________\n",
      "h2 (Dense)                   multiple                  264       \n",
      "_________________________________________________________________\n",
      "output (Dense)               multiple                  9         \n",
      "=================================================================\n",
      "Total params: 465\n",
      "Trainable params: 465\n",
      "Non-trainable params: 0\n",
      "_________________________________________________________________\n"
     ]
    }
   ],
   "source": [
    "model.summary()"
   ]
  },
  {
   "cell_type": "markdown",
   "metadata": {},
   "source": [
    "Running `.fit` (or `.fit_generator`) returns a History object which collects all the events recorded during training. Similar to Tensorboard, we can plot the training and validation curves for the model loss and rmse by accessing these elements of the History object."
   ]
  },
  {
   "cell_type": "code",
   "execution_count": 13,
   "metadata": {},
   "outputs": [
    {
     "data": {
      "text/plain": [
       "<AxesSubplot:>"
      ]
     },
     "execution_count": 13,
     "metadata": {},
     "output_type": "execute_result"
    },
    {
     "data": {
      "image/png": "[encoded data removed]",
      "text/plain": [
       "<Figure size 432x288 with 1 Axes>"
      ]
     },
     "metadata": {
      "needs_background": "light"
     },
     "output_type": "display_data"
    }
   ],
   "source": [
    "RMSE_COLS = ['rmse', 'val_rmse']\n",
    "\n",
    "pd.DataFrame(history.history)[RMSE_COLS].plot()"
   ]
  },
  {
   "cell_type": "code",
   "execution_count": 14,
   "metadata": {},
   "outputs": [
    {
     "data": {
      "text/plain": [
       "<AxesSubplot:>"
      ]
     },
     "execution_count": 14,
     "metadata": {},
     "output_type": "execute_result"
    },
    {
     "data": {
      "image/png": "[encoded data removed]",
      "text/plain": [
       "<Figure size 432x288 with 1 Axes>"
      ]
     },
     "metadata": {
      "needs_background": "light"
     },
     "output_type": "display_data"
    }
   ],
   "source": [
    "LOSS_COLS = ['loss', 'val_loss']\n",
    "\n",
    "pd.DataFrame(history.history)[LOSS_COLS].plot()"
   ]
  },
  {
   "cell_type": "markdown",
   "metadata": {},
   "source": [
    "# Making predictions with our model\n",
    "\n",
    "To make predictions with our trained model, we can call the [predict method](https://www.tensorflow.org/api_docs/python/tf/keras/Model#predict), passing to it a dictionary of values. The `steps` parameter determines the total number of steps before declaring the prediction round finished. Here since we have just one example, we set `steps=1` (setting `steps=None` would also work). Note, however, that if x is a `tf.data` dataset or a dataset iterator, and steps is set to None, predict will run until the input dataset is exhausted."
   ]
  },
  {
   "cell_type": "code",
   "execution_count": 15,
   "metadata": {},
   "outputs": [
    {
     "data": {
      "text/plain": [
       "array([[11.692491]], dtype=float32)"
      ]
     },
     "execution_count": 15,
     "metadata": {},
     "output_type": "execute_result"
    }
   ],
   "source": [
    "model.predict(x={\"pickup_longitude\": tf.convert_to_tensor([-73.982683]),\n",
    "                 \"pickup_latitude\": tf.convert_to_tensor([40.742104]),\n",
    "                 \"dropoff_longitude\": tf.convert_to_tensor([-73.983766]),\n",
    "                 \"dropoff_latitude\": tf.convert_to_tensor([40.755174]),\n",
    "                 \"passenger_count\": tf.convert_to_tensor([3.0])},\n",
    "              steps=1)"
   ]
  },
  {
   "cell_type": "markdown",
   "metadata": {},
   "source": [
    "# Export and deploy our model\n",
    "\n",
    "Of course, making individual predictions is not realistic, because we can't expect client code to have a model object in memory. For others to use our trained model, we'll have to export our model to a file, and expect client code to instantiate the model from that exported file. \n",
    "\n",
    "We'll export the model to a TensorFlow SavedModel format. Once we have a model in this format, we have lots of ways to \"serve\" the model, from a web application, from JavaScript, from mobile applications, etc."
   ]
  },
  {
   "cell_type": "code",
   "execution_count": 16,
   "metadata": {},
   "outputs": [
    {
     "name": "stdout",
     "output_type": "stream",
     "text": [
      "WARNING:tensorflow:From C:\\Users\\LONAA32\\Anaconda3\\envs\\tensorflow\\lib\\site-packages\\tensorflow\\python\\ops\\resource_variable_ops.py:1813: calling BaseResourceVariable.__init__ (from tensorflow.python.ops.resource_variable_ops) with constraint is deprecated and will be removed in a future version.\n",
      "Instructions for updating:\n",
      "If using Keras pass *_constraint arguments to layers.\n",
      "INFO:tensorflow:Assets written to: ./export/savedmodel\\20200920194145\\assets\n"
     ]
    }
   ],
   "source": [
    "# TODO 4a\n",
    "OUTPUT_DIR = \"./export/savedmodel\"\n",
    "shutil.rmtree(OUTPUT_DIR, ignore_errors=True)\n",
    "EXPORT_PATH = os.path.join(OUTPUT_DIR,\n",
    "                           datetime.datetime.now().strftime(\"%Y%m%d%H%M%S\"))\n",
    "tf.saved_model.save(model, EXPORT_PATH)  # with default serving function"
   ]
  },
  {
   "cell_type": "code",
   "execution_count": 57,
   "metadata": {},
   "outputs": [
    {
     "name": "stderr",
     "output_type": "stream",
     "text": [
      "2020-09-20 16:02:02.400453: W tensorflow/stream_executor/platform/default/dso_loader.cc:55] Could not load dynamic library 'cudart64_101.dll'; dlerror: cudart64_101.dll not found\n",
      "2020-09-20 16:02:02.400650: I tensorflow/stream_executor/cuda/cudart_stub.cc:29] Ignore above cudart dlerror if you do not have a GPU set up on your machine.\n"
     ]
    },
    {
     "name": "stdout",
     "output_type": "stream",
     "text": [
      "The given SavedModel SignatureDef contains the following input(s):\n",
      "  inputs['dropoff_latitude'] tensor_info:\n",
      "      dtype: DT_FLOAT\n",
      "      shape: (-1, 1)\n",
      "      name: serving_default_dropoff_latitude:0\n",
      "  inputs['dropoff_longitude'] tensor_info:\n",
      "      dtype: DT_FLOAT\n",
      "      shape: (-1, 1)\n",
      "      name: serving_default_dropoff_longitude:0\n",
      "  inputs['passenger_count'] tensor_info:\n",
      "      dtype: DT_FLOAT\n",
      "      shape: (-1, 1)\n",
      "      name: serving_default_passenger_count:0\n",
      "  inputs['pickup_latitude'] tensor_info:\n",
      "      dtype: DT_FLOAT\n",
      "      shape: (-1, 1)\n",
      "      name: serving_default_pickup_latitude:0\n",
      "  inputs['pickup_longitude'] tensor_info:\n",
      "      dtype: DT_FLOAT\n",
      "      shape: (-1, 1)\n",
      "      name: serving_default_pickup_longitude:0\n",
      "The given SavedModel SignatureDef contains the following output(s):\n",
      "  outputs['output_1'] tensor_info:\n",
      "      dtype: DT_FLOAT\n",
      "      shape: (-1, 1)\n",
      "      name: StatefulPartitionedCall:0\n",
      "Method name is: tensorflow/serving/predict\n"
     ]
    },
    {
     "name": "stderr",
     "output_type": "stream",
     "text": [
      "FIND: Parameter format not correct\n"
     ]
    }
   ],
   "source": [
    "# TODO 4b\n",
    "!saved_model_cli show \\\n",
    " --tag_set serve \\\n",
    " --signature_def serving_default \\\n",
    " --dir {EXPORT_PATH}\n",
    "!find {EXPORT_PATH}\n",
    "os.environ['EXPORT_PATH'] = EXPORT_PATH"
   ]
  },
  {
   "cell_type": "markdown",
   "metadata": {},
   "source": [
    "### Deploy our model to AI Platform\n",
    "\n",
    "Finally, we will deploy our trained model to AI Platform and see how we can make online predicitons. "
   ]
  },
  {
   "cell_type": "code",
   "execution_count": null,
   "metadata": {},
   "outputs": [],
   "source": [
    "%%bash\n",
    "\n",
    "# TODO 5a\n",
    "\n",
    "PROJECT= # TODO: Change this to your PROJECT\n",
    "BUCKET=${PROJECT}\n",
    "REGION=us-east1\n",
    "MODEL_NAME=taxifare\n",
    "VERSION_NAME=dnn\n",
    "\n",
    "## Create GCS bucket if it doesn't exist already...\n",
    "exists=$(gsutil ls -d | grep -w gs://${BUCKET}/)\n",
    "\n",
    "if [ -n \"$exists\" ]; then\n",
    "    echo -e \"Bucket exists, let's not recreate it.\"\n",
    "else\n",
    "    echo \"Creating a new GCS bucket.\"\n",
    "    gsutil mb -l ${REGION} gs://${BUCKET}\n",
    "    echo \"\\nHere are your current buckets:\"\n",
    "    gsutil ls\n",
    "fi\n",
    "\n",
    "if [[ $(gcloud ai-platform models list --format='value(name)' | grep $MODEL_NAME) ]]; then\n",
    "    echo \"$MODEL_NAME already exists\"\n",
    "else\n",
    "    echo \"Creating $MODEL_NAME\"\n",
    "    gcloud ai-platform models create --regions=$REGION $MODEL_NAME\n",
    "fi\n",
    "\n",
    "if [[ $(gcloud ai-platform versions list --model $MODEL_NAME --format='value(name)' | grep $VERSION_NAME) ]]; then\n",
    "    echo \"Deleting already existing $MODEL_NAME:$VERSION_NAME ... \"\n",
    "    echo yes | gcloud ai-platform versions delete --model=$MODEL_NAME $VERSION_NAME\n",
    "    echo \"Please run this cell again if you don't see a Creating message ... \"\n",
    "    sleep 2\n",
    "fi\n",
    "\n",
    "echo \"Creating $MODEL_NAME:$VERSION_NAME\"\n",
    "gcloud ai-platform versions create --model=$MODEL_NAME $VERSION_NAME \\\n",
    "       --framework=tensorflow --python-version=3.7 --runtime-version=2.1 \\\n",
    "       --origin=$EXPORT_PATH --staging-bucket=gs://$BUCKET"
   ]
  },
  {
   "cell_type": "code",
   "execution_count": null,
   "metadata": {},
   "outputs": [],
   "source": [
    "%%writefile input.json\n",
    "{\"pickup_longitude\": -73.982683, \"pickup_latitude\": 40.742104,\"dropoff_longitude\": -73.983766,\"dropoff_latitude\": 40.755174,\"passenger_count\": 3.0}  "
   ]
  },
  {
   "cell_type": "code",
   "execution_count": null,
   "metadata": {},
   "outputs": [],
   "source": [
    "# TODO 5b\n",
    "!gcloud ai-platform predict --model taxifare --json-instances input.json --version dnn"
   ]
  }
 ],
 "metadata": {
  "kernelspec": {
   "display_name": "Python 3",
   "language": "python",
   "name": "python3"
  },
  "language_info": {
   "codemirror_mode": {
    "name": "ipython",
    "version": 3
   },
   "file_extension": ".py",
   "mimetype": "text/x-python",
   "name": "python",
   "nbconvert_exporter": "python",
   "pygments_lexer": "ipython3",
   "version": "3.8.5"
  }
 },
 "nbformat": 4,
 "nbformat_minor": 4
}
